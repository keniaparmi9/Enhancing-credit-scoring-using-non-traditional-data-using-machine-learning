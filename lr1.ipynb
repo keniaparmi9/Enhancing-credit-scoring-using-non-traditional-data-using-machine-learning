{
 "cells": [
  {
   "cell_type": "code",
   "execution_count": 1,
   "metadata": {},
   "outputs": [],
   "source": [
    "import pandas as pd\n",
    "import numpy as np\n",
    "from sklearn.model_selection import train_test_split\n",
    "from sklearn.model_selection import StratifiedKFold\n",
    "from sklearn.model_selection import GridSearchCV, KFold\n",
    "from sklearn.decomposition import PCA\n",
    "from sklearn.linear_model import Lasso\n",
    "from sklearn.ensemble import RandomForestRegressor\n",
    "from sklearn.linear_model import LinearRegression\n",
    "from sklearn.linear_model import Ridge\n",
    "from sklearn.feature_selection import mutual_info_regression\n",
    "from sklearn.feature_selection import SequentialFeatureSelector\n",
    "from sklearn.feature_selection import SelectFromModel\n",
    "from sklearn.feature_selection import RFE\n",
    "from sklearn.feature_selection import RFECV\n",
    "from sklearn.metrics import mean_squared_error,mean_absolute_error, mean_absolute_percentage_error\n",
    "import seaborn as sns\n",
    "from sklearn.feature_selection import f_classif\n",
    "from sklearn.feature_selection import SelectKBest\n",
    "import matplotlib.pyplot as plt\n",
    "from sklearn.preprocessing import StandardScaler,MinMaxScaler"
   ]
  },
  {
   "cell_type": "code",
   "execution_count": 2,
   "metadata": {},
   "outputs": [],
   "source": [
    "df=pd.read_csv('/Users/parmikenia/Desktop/internship codes/combined_credit2.csv')"
   ]
  },
  {
   "cell_type": "code",
   "execution_count": 3,
   "metadata": {},
   "outputs": [],
   "source": [
    "X = df.drop(columns=['Customer_ID','Credit_Score'])\n",
    "y = df['Credit_Score']"
   ]
  },
  {
   "cell_type": "code",
   "execution_count": 4,
   "metadata": {},
   "outputs": [],
   "source": [
    "X_train, X_test, y_train, y_test = train_test_split(X, y, test_size=0.2, random_state=42)"
   ]
  },
  {
   "cell_type": "code",
   "execution_count": 5,
   "metadata": {},
   "outputs": [
    {
     "data": {
      "text/html": [
       "<div>\n",
       "<style scoped>\n",
       "    .dataframe tbody tr th:only-of-type {\n",
       "        vertical-align: middle;\n",
       "    }\n",
       "\n",
       "    .dataframe tbody tr th {\n",
       "        vertical-align: top;\n",
       "    }\n",
       "\n",
       "    .dataframe thead th {\n",
       "        text-align: right;\n",
       "    }\n",
       "</style>\n",
       "<table border=\"1\" class=\"dataframe\">\n",
       "  <thead>\n",
       "    <tr style=\"text-align: right;\">\n",
       "      <th></th>\n",
       "      <th>Age</th>\n",
       "      <th>Income</th>\n",
       "      <th>Loan_Amount</th>\n",
       "      <th>Loan_Term_Months</th>\n",
       "      <th>Rent_Payments</th>\n",
       "      <th>Utility_Payments_On_Time</th>\n",
       "      <th>Mobile_Phone_Payment_On_Time</th>\n",
       "      <th>Social_Media_Activity_Score</th>\n",
       "      <th>Transaction_Behavior_Score</th>\n",
       "      <th>gender_female</th>\n",
       "      <th>...</th>\n",
       "      <th>gender_non-binary</th>\n",
       "      <th>demographics_Rural</th>\n",
       "      <th>demographics_Sub_Urban</th>\n",
       "      <th>demographics_Urban</th>\n",
       "      <th>profession_Marketer Manager</th>\n",
       "      <th>profession_Software Engineer</th>\n",
       "      <th>profession_Student</th>\n",
       "      <th>social mediaplatform_Facebook</th>\n",
       "      <th>social mediaplatform_Instagram</th>\n",
       "      <th>social mediaplatform_YouTube</th>\n",
       "    </tr>\n",
       "  </thead>\n",
       "  <tbody>\n",
       "    <tr>\n",
       "      <th>29</th>\n",
       "      <td>67</td>\n",
       "      <td>0.672378</td>\n",
       "      <td>0.131375</td>\n",
       "      <td>0.25</td>\n",
       "      <td>0.180040</td>\n",
       "      <td>True</td>\n",
       "      <td>True</td>\n",
       "      <td>0.173469</td>\n",
       "      <td>0.948980</td>\n",
       "      <td>False</td>\n",
       "      <td>...</td>\n",
       "      <td>True</td>\n",
       "      <td>False</td>\n",
       "      <td>True</td>\n",
       "      <td>False</td>\n",
       "      <td>False</td>\n",
       "      <td>True</td>\n",
       "      <td>False</td>\n",
       "      <td>False</td>\n",
       "      <td>False</td>\n",
       "      <td>True</td>\n",
       "    </tr>\n",
       "    <tr>\n",
       "      <th>535</th>\n",
       "      <td>65</td>\n",
       "      <td>0.134106</td>\n",
       "      <td>0.017020</td>\n",
       "      <td>0.25</td>\n",
       "      <td>0.993982</td>\n",
       "      <td>True</td>\n",
       "      <td>False</td>\n",
       "      <td>0.132653</td>\n",
       "      <td>0.367347</td>\n",
       "      <td>True</td>\n",
       "      <td>...</td>\n",
       "      <td>False</td>\n",
       "      <td>False</td>\n",
       "      <td>True</td>\n",
       "      <td>False</td>\n",
       "      <td>False</td>\n",
       "      <td>False</td>\n",
       "      <td>True</td>\n",
       "      <td>True</td>\n",
       "      <td>False</td>\n",
       "      <td>False</td>\n",
       "    </tr>\n",
       "    <tr>\n",
       "      <th>695</th>\n",
       "      <td>28</td>\n",
       "      <td>0.504811</td>\n",
       "      <td>0.936890</td>\n",
       "      <td>1.00</td>\n",
       "      <td>0.670010</td>\n",
       "      <td>True</td>\n",
       "      <td>True</td>\n",
       "      <td>0.479592</td>\n",
       "      <td>0.673469</td>\n",
       "      <td>True</td>\n",
       "      <td>...</td>\n",
       "      <td>False</td>\n",
       "      <td>False</td>\n",
       "      <td>False</td>\n",
       "      <td>True</td>\n",
       "      <td>False</td>\n",
       "      <td>True</td>\n",
       "      <td>False</td>\n",
       "      <td>False</td>\n",
       "      <td>True</td>\n",
       "      <td>False</td>\n",
       "    </tr>\n",
       "    <tr>\n",
       "      <th>557</th>\n",
       "      <td>50</td>\n",
       "      <td>0.410054</td>\n",
       "      <td>0.132848</td>\n",
       "      <td>0.00</td>\n",
       "      <td>0.942828</td>\n",
       "      <td>True</td>\n",
       "      <td>True</td>\n",
       "      <td>0.071429</td>\n",
       "      <td>0.632653</td>\n",
       "      <td>False</td>\n",
       "      <td>...</td>\n",
       "      <td>True</td>\n",
       "      <td>True</td>\n",
       "      <td>False</td>\n",
       "      <td>False</td>\n",
       "      <td>False</td>\n",
       "      <td>False</td>\n",
       "      <td>True</td>\n",
       "      <td>False</td>\n",
       "      <td>True</td>\n",
       "      <td>False</td>\n",
       "    </tr>\n",
       "    <tr>\n",
       "      <th>836</th>\n",
       "      <td>35</td>\n",
       "      <td>0.205239</td>\n",
       "      <td>0.994027</td>\n",
       "      <td>0.50</td>\n",
       "      <td>0.545637</td>\n",
       "      <td>True</td>\n",
       "      <td>False</td>\n",
       "      <td>0.285714</td>\n",
       "      <td>0.408163</td>\n",
       "      <td>False</td>\n",
       "      <td>...</td>\n",
       "      <td>True</td>\n",
       "      <td>True</td>\n",
       "      <td>False</td>\n",
       "      <td>False</td>\n",
       "      <td>False</td>\n",
       "      <td>True</td>\n",
       "      <td>False</td>\n",
       "      <td>False</td>\n",
       "      <td>True</td>\n",
       "      <td>False</td>\n",
       "    </tr>\n",
       "    <tr>\n",
       "      <th>...</th>\n",
       "      <td>...</td>\n",
       "      <td>...</td>\n",
       "      <td>...</td>\n",
       "      <td>...</td>\n",
       "      <td>...</td>\n",
       "      <td>...</td>\n",
       "      <td>...</td>\n",
       "      <td>...</td>\n",
       "      <td>...</td>\n",
       "      <td>...</td>\n",
       "      <td>...</td>\n",
       "      <td>...</td>\n",
       "      <td>...</td>\n",
       "      <td>...</td>\n",
       "      <td>...</td>\n",
       "      <td>...</td>\n",
       "      <td>...</td>\n",
       "      <td>...</td>\n",
       "      <td>...</td>\n",
       "      <td>...</td>\n",
       "      <td>...</td>\n",
       "    </tr>\n",
       "    <tr>\n",
       "      <th>106</th>\n",
       "      <td>61</td>\n",
       "      <td>0.439328</td>\n",
       "      <td>0.512509</td>\n",
       "      <td>0.25</td>\n",
       "      <td>0.634905</td>\n",
       "      <td>False</td>\n",
       "      <td>True</td>\n",
       "      <td>0.265306</td>\n",
       "      <td>0.418367</td>\n",
       "      <td>False</td>\n",
       "      <td>...</td>\n",
       "      <td>False</td>\n",
       "      <td>False</td>\n",
       "      <td>True</td>\n",
       "      <td>False</td>\n",
       "      <td>False</td>\n",
       "      <td>True</td>\n",
       "      <td>False</td>\n",
       "      <td>False</td>\n",
       "      <td>True</td>\n",
       "      <td>False</td>\n",
       "    </tr>\n",
       "    <tr>\n",
       "      <th>270</th>\n",
       "      <td>21</td>\n",
       "      <td>0.288757</td>\n",
       "      <td>0.330074</td>\n",
       "      <td>0.00</td>\n",
       "      <td>0.625878</td>\n",
       "      <td>True</td>\n",
       "      <td>True</td>\n",
       "      <td>0.234694</td>\n",
       "      <td>0.734694</td>\n",
       "      <td>False</td>\n",
       "      <td>...</td>\n",
       "      <td>True</td>\n",
       "      <td>False</td>\n",
       "      <td>False</td>\n",
       "      <td>True</td>\n",
       "      <td>False</td>\n",
       "      <td>False</td>\n",
       "      <td>True</td>\n",
       "      <td>True</td>\n",
       "      <td>False</td>\n",
       "      <td>False</td>\n",
       "    </tr>\n",
       "    <tr>\n",
       "      <th>860</th>\n",
       "      <td>22</td>\n",
       "      <td>0.780521</td>\n",
       "      <td>0.638954</td>\n",
       "      <td>0.50</td>\n",
       "      <td>0.678536</td>\n",
       "      <td>True</td>\n",
       "      <td>True</td>\n",
       "      <td>0.673469</td>\n",
       "      <td>0.469388</td>\n",
       "      <td>True</td>\n",
       "      <td>...</td>\n",
       "      <td>False</td>\n",
       "      <td>False</td>\n",
       "      <td>True</td>\n",
       "      <td>False</td>\n",
       "      <td>False</td>\n",
       "      <td>True</td>\n",
       "      <td>False</td>\n",
       "      <td>True</td>\n",
       "      <td>False</td>\n",
       "      <td>False</td>\n",
       "    </tr>\n",
       "    <tr>\n",
       "      <th>435</th>\n",
       "      <td>49</td>\n",
       "      <td>0.709565</td>\n",
       "      <td>0.339955</td>\n",
       "      <td>0.25</td>\n",
       "      <td>0.066199</td>\n",
       "      <td>True</td>\n",
       "      <td>True</td>\n",
       "      <td>0.928571</td>\n",
       "      <td>0.295918</td>\n",
       "      <td>False</td>\n",
       "      <td>...</td>\n",
       "      <td>True</td>\n",
       "      <td>False</td>\n",
       "      <td>True</td>\n",
       "      <td>False</td>\n",
       "      <td>True</td>\n",
       "      <td>False</td>\n",
       "      <td>False</td>\n",
       "      <td>False</td>\n",
       "      <td>False</td>\n",
       "      <td>True</td>\n",
       "    </tr>\n",
       "    <tr>\n",
       "      <th>102</th>\n",
       "      <td>51</td>\n",
       "      <td>0.380419</td>\n",
       "      <td>0.051020</td>\n",
       "      <td>0.00</td>\n",
       "      <td>0.734704</td>\n",
       "      <td>True</td>\n",
       "      <td>True</td>\n",
       "      <td>0.316327</td>\n",
       "      <td>0.275510</td>\n",
       "      <td>False</td>\n",
       "      <td>...</td>\n",
       "      <td>True</td>\n",
       "      <td>False</td>\n",
       "      <td>False</td>\n",
       "      <td>True</td>\n",
       "      <td>True</td>\n",
       "      <td>False</td>\n",
       "      <td>False</td>\n",
       "      <td>False</td>\n",
       "      <td>True</td>\n",
       "      <td>False</td>\n",
       "    </tr>\n",
       "  </tbody>\n",
       "</table>\n",
       "<p>800 rows × 21 columns</p>\n",
       "</div>"
      ],
      "text/plain": [
       "     Age    Income  Loan_Amount  Loan_Term_Months  Rent_Payments  \\\n",
       "29    67  0.672378     0.131375              0.25       0.180040   \n",
       "535   65  0.134106     0.017020              0.25       0.993982   \n",
       "695   28  0.504811     0.936890              1.00       0.670010   \n",
       "557   50  0.410054     0.132848              0.00       0.942828   \n",
       "836   35  0.205239     0.994027              0.50       0.545637   \n",
       "..   ...       ...          ...               ...            ...   \n",
       "106   61  0.439328     0.512509              0.25       0.634905   \n",
       "270   21  0.288757     0.330074              0.00       0.625878   \n",
       "860   22  0.780521     0.638954              0.50       0.678536   \n",
       "435   49  0.709565     0.339955              0.25       0.066199   \n",
       "102   51  0.380419     0.051020              0.00       0.734704   \n",
       "\n",
       "     Utility_Payments_On_Time  Mobile_Phone_Payment_On_Time  \\\n",
       "29                       True                          True   \n",
       "535                      True                         False   \n",
       "695                      True                          True   \n",
       "557                      True                          True   \n",
       "836                      True                         False   \n",
       "..                        ...                           ...   \n",
       "106                     False                          True   \n",
       "270                      True                          True   \n",
       "860                      True                          True   \n",
       "435                      True                          True   \n",
       "102                      True                          True   \n",
       "\n",
       "     Social_Media_Activity_Score  Transaction_Behavior_Score  gender_female  \\\n",
       "29                      0.173469                    0.948980          False   \n",
       "535                     0.132653                    0.367347           True   \n",
       "695                     0.479592                    0.673469           True   \n",
       "557                     0.071429                    0.632653          False   \n",
       "836                     0.285714                    0.408163          False   \n",
       "..                           ...                         ...            ...   \n",
       "106                     0.265306                    0.418367          False   \n",
       "270                     0.234694                    0.734694          False   \n",
       "860                     0.673469                    0.469388           True   \n",
       "435                     0.928571                    0.295918          False   \n",
       "102                     0.316327                    0.275510          False   \n",
       "\n",
       "     ...  gender_non-binary  demographics_Rural  demographics_Sub_Urban  \\\n",
       "29   ...               True               False                    True   \n",
       "535  ...              False               False                    True   \n",
       "695  ...              False               False                   False   \n",
       "557  ...               True                True                   False   \n",
       "836  ...               True                True                   False   \n",
       "..   ...                ...                 ...                     ...   \n",
       "106  ...              False               False                    True   \n",
       "270  ...               True               False                   False   \n",
       "860  ...              False               False                    True   \n",
       "435  ...               True               False                    True   \n",
       "102  ...               True               False                   False   \n",
       "\n",
       "     demographics_Urban  profession_Marketer Manager  \\\n",
       "29                False                        False   \n",
       "535               False                        False   \n",
       "695                True                        False   \n",
       "557               False                        False   \n",
       "836               False                        False   \n",
       "..                  ...                          ...   \n",
       "106               False                        False   \n",
       "270                True                        False   \n",
       "860               False                        False   \n",
       "435               False                         True   \n",
       "102                True                         True   \n",
       "\n",
       "     profession_Software Engineer  profession_Student  \\\n",
       "29                           True               False   \n",
       "535                         False                True   \n",
       "695                          True               False   \n",
       "557                         False                True   \n",
       "836                          True               False   \n",
       "..                            ...                 ...   \n",
       "106                          True               False   \n",
       "270                         False                True   \n",
       "860                          True               False   \n",
       "435                         False               False   \n",
       "102                         False               False   \n",
       "\n",
       "     social mediaplatform_Facebook  social mediaplatform_Instagram  \\\n",
       "29                           False                           False   \n",
       "535                           True                           False   \n",
       "695                          False                            True   \n",
       "557                          False                            True   \n",
       "836                          False                            True   \n",
       "..                             ...                             ...   \n",
       "106                          False                            True   \n",
       "270                           True                           False   \n",
       "860                           True                           False   \n",
       "435                          False                           False   \n",
       "102                          False                            True   \n",
       "\n",
       "     social mediaplatform_YouTube  \n",
       "29                           True  \n",
       "535                         False  \n",
       "695                         False  \n",
       "557                         False  \n",
       "836                         False  \n",
       "..                            ...  \n",
       "106                         False  \n",
       "270                         False  \n",
       "860                         False  \n",
       "435                          True  \n",
       "102                         False  \n",
       "\n",
       "[800 rows x 21 columns]"
      ]
     },
     "execution_count": 5,
     "metadata": {},
     "output_type": "execute_result"
    }
   ],
   "source": [
    "X_train"
   ]
  },
  {
   "cell_type": "code",
   "execution_count": 6,
   "metadata": {},
   "outputs": [
    {
     "name": "stdout",
     "output_type": "stream",
     "text": [
      "(800, 21)\n",
      "(800,)\n"
     ]
    }
   ],
   "source": [
    "print(X_train.shape)\n",
    "print(y_train.shape)"
   ]
  },
  {
   "cell_type": "code",
   "execution_count": 7,
   "metadata": {},
   "outputs": [
    {
     "name": "stdout",
     "output_type": "stream",
     "text": [
      "False\n",
      "False\n",
      "False\n",
      "False\n"
     ]
    }
   ],
   "source": [
    "import numpy as np\n",
    "\n",
    "print(np.any(np.isnan(X_train)))\n",
    "print(np.any(np.isinf(X_train)))\n",
    "print(np.any(np.isnan(y_train)))\n",
    "print(np.any(np.isinf(y_train)))"
   ]
  },
  {
   "cell_type": "markdown",
   "metadata": {},
   "source": [
    "LASSO REGRESSION"
   ]
  },
  {
   "cell_type": "code",
   "execution_count": null,
   "metadata": {},
   "outputs": [],
   "source": [
    "# parameters to be tested on GridSearchCV\n",
    "params = {\"alpha\":np.arange(0.00001, 10, 500)}\n",
    "\n",
    "# Number of Folds and adding the random state for replication\n",
    "kf=KFold(n_splits=5,shuffle=True, random_state=42)\n",
    "\n",
    "# Initializing the Model\n",
    "lasso = Lasso()\n",
    "\n",
    "# GridSearchCV with model, params and folds.\n",
    "lasso_cv=GridSearchCV(lasso, param_grid=params, cv=kf)\n",
    "lasso_cv.fit(X, y)\n",
    "print(\"Best Params {}\".format(lasso_cv.best_params_))"
   ]
  },
  {
   "cell_type": "code",
   "execution_count": null,
   "metadata": {},
   "outputs": [],
   "source": [
    "column_names = X.columns.to_list()"
   ]
  },
  {
   "cell_type": "code",
   "execution_count": null,
   "metadata": {},
   "outputs": [],
   "source": [
    "# calling the model with the best parameter\n",
    "lasso1 = Lasso(alpha=0.00001)\n",
    "lasso1.fit(X_train, y_train)\n",
    "\n",
    "# Using np.abs() to make coefficients positive.\n",
    "lasso1_coef = np.abs(lasso1.coef_)\n",
    "\n",
    "# plotting the Column Names and Importance of Columns.\n",
    "plt.bar(column_names, lasso1_coef)\n",
    "plt.xticks(rotation=90)\n",
    "plt.grid()\n",
    "plt.title(\"Feature Selection Based on Lasso\")\n",
    "plt.xlabel(\"Features\")\n",
    "plt.ylabel(\"Importance\")\n",
    "plt.ylim(0, 1)\n",
    "plt.show()"
   ]
  },
  {
   "cell_type": "code",
   "execution_count": null,
   "metadata": {},
   "outputs": [],
   "source": [
    "df_lasso=df[['Income','Loan_Term_Months','Mobile_Phone_Payment_On_Time','Transaction_Behavior_Score']]"
   ]
  },
  {
   "cell_type": "code",
   "execution_count": null,
   "metadata": {},
   "outputs": [],
   "source": [
    "X_train_lasso, X_test_lasso, y_train_lasso, y_test_lasso = train_test_split(df_lasso, y, test_size=0.2, random_state=0)\n",
    "# Initialize and train the model\n",
    "model = LinearRegression()\n",
    "model.fit(X_train_lasso, y_train_lasso)\n",
    "\n",
    "# Predict on the test set\n",
    "y_pred = model.predict(X_test_lasso)"
   ]
  },
  {
   "cell_type": "code",
   "execution_count": null,
   "metadata": {},
   "outputs": [],
   "source": [
    "# Evaluate the model\n",
    "mse = mean_squared_error(y_test_lasso, y_pred)\n",
    "print(f'Mean Squared Error: {mse}')"
   ]
  },
  {
   "cell_type": "code",
   "execution_count": null,
   "metadata": {},
   "outputs": [],
   "source": [
    "rmse = mean_squared_error(y_test_lasso, y_pred, squared=False)\n",
    "print(f'Root Mean Squared Error: {rmse}')"
   ]
  },
  {
   "cell_type": "code",
   "execution_count": null,
   "metadata": {},
   "outputs": [],
   "source": [
    "mae = mean_absolute_error(y_test_lasso, y_pred)\n",
    "print(f\"Mean Absolute Error: {mae}\")"
   ]
  },
  {
   "cell_type": "markdown",
   "metadata": {},
   "source": [
    "RANDOM FOREST"
   ]
  },
  {
   "cell_type": "code",
   "execution_count": null,
   "metadata": {},
   "outputs": [],
   "source": [
    "rf = RandomForestRegressor(random_state=0)\n",
    "\n",
    "rf.fit(X_train,y_train)"
   ]
  },
  {
   "cell_type": "code",
   "execution_count": null,
   "metadata": {},
   "outputs": [],
   "source": [
    "column_names = X.columns.to_list()"
   ]
  },
  {
   "cell_type": "code",
   "execution_count": null,
   "metadata": {},
   "outputs": [],
   "source": [
    "f_i = list(zip(column_names,rf.feature_importances_))\n",
    "f_i.sort(key = lambda x : x[1])\n",
    "plt.barh([x[0] for x in f_i],[x[1] for x in f_i])\n",
    "\n",
    "plt.show()"
   ]
  },
  {
   "cell_type": "code",
   "execution_count": null,
   "metadata": {},
   "outputs": [],
   "source": [
    "df_rf=df[['Income','Loan_Amount','Rent_Payments','Transaction_Behavior_Score','Social_Media_Activity_Score','Age','Loan_Term_Months']]"
   ]
  },
  {
   "cell_type": "code",
   "execution_count": null,
   "metadata": {},
   "outputs": [],
   "source": [
    "X_train_rf, X_test_rf, y_train_rf, y_test_rf = train_test_split(df_rf, y, test_size=0.2, random_state=0)\n",
    "# Initialize and train the model\n",
    "model = LinearRegression()\n",
    "model.fit(X_train_rf, y_train_rf)\n",
    "\n",
    "# Predict on the test set\n",
    "y_pred = model.predict(X_test_rf)\n"
   ]
  },
  {
   "cell_type": "code",
   "execution_count": null,
   "metadata": {},
   "outputs": [],
   "source": [
    "# Evaluate the model\n",
    "mse = mean_squared_error(y_test_rf, y_pred)\n",
    "print(f'Mean Squared Error: {mse}')"
   ]
  },
  {
   "cell_type": "code",
   "execution_count": null,
   "metadata": {},
   "outputs": [],
   "source": [
    "rmse = mean_squared_error(y_test_rf, y_pred, squared=False)\n",
    "print(f'Root Mean Squared Error: {rmse}')"
   ]
  },
  {
   "cell_type": "code",
   "execution_count": null,
   "metadata": {},
   "outputs": [],
   "source": [
    "mae = mean_absolute_error(y_test_rf, y_pred)\n",
    "print(f\"Mean Absolute Error: {mae}\")"
   ]
  },
  {
   "cell_type": "markdown",
   "metadata": {},
   "source": [
    "Forward and Backward"
   ]
  },
  {
   "cell_type": "markdown",
   "metadata": {},
   "source": [
    "Forward"
   ]
  },
  {
   "cell_type": "code",
   "execution_count": null,
   "metadata": {},
   "outputs": [],
   "source": [
    "# Initialize the Ridge model\n",
    "ridge = Ridge()"
   ]
  },
  {
   "cell_type": "code",
   "execution_count": null,
   "metadata": {},
   "outputs": [],
   "source": [
    "# Perform Sequential Feature Selection\n",
    "sfs_forward = SequentialFeatureSelector(\n",
    "   ridge, n_features_to_select=3, direction=\"forward\"\n",
    ").fit(X, y)"
   ]
  },
  {
   "cell_type": "code",
   "execution_count": null,
   "metadata": {},
   "outputs": [],
   "source": [
    "column_names = X.columns.to_list()"
   ]
  },
  {
   "cell_type": "code",
   "execution_count": null,
   "metadata": {},
   "outputs": [],
   "source": [
    "arr = np.array(column_names)"
   ]
  },
  {
   "cell_type": "code",
   "execution_count": null,
   "metadata": {},
   "outputs": [],
   "source": [
    "sfs_forward = SequentialFeatureSelector(\n",
    "    ridge, n_features_to_select=3, direction=\"forward\"\n",
    ").fit(X, y)\n",
    "\n",
    "print(\n",
    "    \"Features selected by forward sequential selection: \"\n",
    "    f\"{arr[sfs_forward.get_support()]}\"\n",
    ")"
   ]
  },
  {
   "cell_type": "code",
   "execution_count": null,
   "metadata": {},
   "outputs": [],
   "source": [
    "df_sfs_forward=df[['Loan_Term_Months','social mediaplatform_Facebook','social mediaplatform_Instagram']]"
   ]
  },
  {
   "cell_type": "code",
   "execution_count": null,
   "metadata": {},
   "outputs": [],
   "source": [
    "X_train_sfs_forward, X_test_sfs_forward, y_train_sfs_forward, y_test_sfs_forward = train_test_split(df_sfs_forward, y, test_size=0.2, random_state=0)\n",
    "# Make predictions on the test set\n",
    "\n",
    "\n",
    "# Initialize and train the model\n",
    "model = LinearRegression()\n",
    "model.fit(X_train_sfs_forward, y_train)\n",
    "# Predict on the test set\n",
    "y_pred = model.predict(X_test_sfs_forward)"
   ]
  },
  {
   "cell_type": "code",
   "execution_count": null,
   "metadata": {},
   "outputs": [],
   "source": [
    "mse = mean_squared_error(y_test_sfs_forward, y_pred)\n",
    "print(f'Mean Squared Error: {mse}')"
   ]
  },
  {
   "cell_type": "code",
   "execution_count": null,
   "metadata": {},
   "outputs": [],
   "source": [
    "rmse = mean_squared_error(y_test_sfs_forward, y_pred, squared=False)\n",
    "print(f'Root Mean Squared Error: {rmse}')"
   ]
  },
  {
   "cell_type": "code",
   "execution_count": null,
   "metadata": {},
   "outputs": [],
   "source": [
    "mae = mean_absolute_error(y_test_sfs_forward, y_pred)\n",
    "print(f\"Mean Absolute Error: {mae}\")"
   ]
  },
  {
   "cell_type": "markdown",
   "metadata": {},
   "source": [
    "Backward"
   ]
  },
  {
   "cell_type": "code",
   "execution_count": null,
   "metadata": {},
   "outputs": [],
   "source": [
    "sfs_backward = SequentialFeatureSelector(\n",
    "    ridge, n_features_to_select=3, direction=\"backward\"\n",
    ").fit(X, y)\n",
    "print(\n",
    "    \"Features selected by backward sequential selection: \"\n",
    "    f\"{arr[sfs_backward.get_support()]}\"\n",
    ")"
   ]
  },
  {
   "cell_type": "code",
   "execution_count": null,
   "metadata": {},
   "outputs": [],
   "source": [
    "df_sfs_backward=df[['Loan_Term_Months','social mediaplatform_Facebook','social mediaplatform_YouTube']]"
   ]
  },
  {
   "cell_type": "code",
   "execution_count": null,
   "metadata": {},
   "outputs": [],
   "source": [
    "X_train_sfs_backward, X_test_sfs_backward, y_train_sfs_backward, y_test_sfs_backward = train_test_split(df_sfs_backward, y, test_size=0.2, random_state=0)\n",
    "# Make predictions on the test set\n",
    "\n",
    "\n",
    "# Initialize and train the model\n",
    "model = LinearRegression()\n",
    "model.fit(X_train_sfs_backward, y_train)\n",
    "# Predict on the test set\n",
    "y_pred = model.predict(X_test_sfs_backward)"
   ]
  },
  {
   "cell_type": "code",
   "execution_count": null,
   "metadata": {},
   "outputs": [],
   "source": [
    "mse = mean_squared_error(y_test_sfs_backward, y_pred)\n",
    "print(f'Mean Squared Error: {mse}')"
   ]
  },
  {
   "cell_type": "code",
   "execution_count": null,
   "metadata": {},
   "outputs": [],
   "source": [
    "rmse = mean_squared_error(y_test_sfs_backward, y_pred, squared=False)\n",
    "print(f'Root Mean Squared Error: {rmse}')"
   ]
  },
  {
   "cell_type": "code",
   "execution_count": null,
   "metadata": {},
   "outputs": [],
   "source": [
    "mae = mean_absolute_error(y_test_sfs_forward, y_pred)\n",
    "print(f\"Mean Absolute Error: {mae}\")"
   ]
  },
  {
   "cell_type": "markdown",
   "metadata": {},
   "source": [
    "Recursive Feature Eimination with Cross-Validation"
   ]
  },
  {
   "cell_type": "code",
   "execution_count": 8,
   "metadata": {},
   "outputs": [
    {
     "name": "stdout",
     "output_type": "stream",
     "text": [
      "Selected Features: [False  True  True  True  True  True  True  True  True  True  True  True\n",
      "  True  True  True  True  True  True  True  True  True]\n",
      "Mean Squared Error (MSE): 0.0840003549870982\n",
      "Root Mean Squared Error (RMSE): 0.2898281473340679\n",
      "Mean Absolute Error (MAE): 0.25106471105134337\n"
     ]
    }
   ],
   "source": [
    "from sklearn.linear_model import LinearRegression\n",
    "import numpy as np\n",
    "\n",
    "\n",
    "# Assume X is your feature matrix and y is the target variable\n",
    "\n",
    "# Step 1: Initialize the linear regression model\n",
    "model = LinearRegression()\n",
    "\n",
    "\n",
    "# Step 2: Initialize RFE with the model and choose the number of features to select (e.g., 5)\n",
    "rfe = RFE(model, n_features_to_select=20)\n",
    "\n",
    "# Step 3: Fit RFE on the data\n",
    "rfe.fit(X, y)\n",
    "\n",
    "# Step 4: Get the selected features\n",
    "X_rfe = rfe.transform(X)\n",
    "\n",
    "# Step 5: Train the linear regression model on the selected features\n",
    "model.fit(X_rfe, y)\n",
    "\n",
    "# Step 6: Make predictions\n",
    "y_pred = model.predict(X_rfe)\n",
    "\n",
    "# Step 7: Calculate MSE, RMSE, and MAE\n",
    "mse = mean_squared_error(y, y_pred)\n",
    "rmse = np.sqrt(mse)\n",
    "mae = mean_absolute_error(y, y_pred)\n",
    "\n",
    "# Output the results\n",
    "print(\"Selected Features:\", rfe.support_)\n",
    "print(\"Mean Squared Error (MSE):\", mse)\n",
    "print(\"Root Mean Squared Error (RMSE):\", rmse)\n",
    "print(\"Mean Absolute Error (MAE):\", mae)\n"
   ]
  },
  {
   "cell_type": "code",
   "execution_count": 10,
   "metadata": {},
   "outputs": [
    {
     "data": {
      "image/png": "[encoded data removed]",
      "text/plain": [
       "<Figure size 1000x600 with 1 Axes>"
      ]
     },
     "metadata": {},
     "output_type": "display_data"
    }
   ],
   "source": [
    "import matplotlib.pyplot as plt\n",
    "\n",
    "# Plot regression line (Actual vs. Predicted values)\n",
    "plt.figure(figsize=(10, 6))\n",
    "\n",
    "# Scatter plot of actual vs predicted values\n",
    "plt.scatter(y, y_pred, color=\"blue\", alpha=0.5, label=\"Predicted vs Actual\")\n",
    "\n",
    "# Ideal fit line (where predicted = actual)\n",
    "min_val = min(y.min(), y_pred.min())\n",
    "max_val = max(y.max(), y_pred.max())\n",
    "plt.plot([min_val, max_val], [min_val, max_val], color=\"red\", linestyle=\"--\", label=\"Ideal Fit\")\n",
    "\n",
    "# Add labels and title\n",
    "plt.xlabel(\"Actual Values\")\n",
    "plt.ylabel(\"Predicted Values\")\n",
    "plt.title(\"Regression Line: Actual vs Predicted Values (Linear Regression)\")\n",
    "plt.legend()\n",
    "plt.grid(True)\n",
    "plt.show()\n"
   ]
  },
  {
   "cell_type": "markdown",
   "metadata": {},
   "source": [
    "ANOVA"
   ]
  },
  {
   "cell_type": "code",
   "execution_count": null,
   "metadata": {},
   "outputs": [],
   "source": [
    "column_names=X.columns.to_list()"
   ]
  },
  {
   "cell_type": "code",
   "execution_count": null,
   "metadata": {},
   "outputs": [],
   "source": [
    "X_train_df=pd.DataFrame(X_train,columns=column_names)"
   ]
  },
  {
   "cell_type": "code",
   "execution_count": null,
   "metadata": {},
   "outputs": [],
   "source": [
    "sel = SelectKBest(f_classif, k=10).fit(X_train, y_train)\n",
    "\n",
    "# display selected feature names\n",
    "selected_features=X_train_df.columns[sel.get_support()]\n",
    "selected_features"
   ]
  },
  {
   "cell_type": "code",
   "execution_count": null,
   "metadata": {},
   "outputs": [],
   "source": [
    "df_anova = df[selected_features]"
   ]
  },
  {
   "cell_type": "code",
   "execution_count": null,
   "metadata": {},
   "outputs": [],
   "source": [
    "X_train_anova, X_test_anova, y_train_anova, y_test_anova = train_test_split(df_anova, y, test_size=0.2, random_state=0)\n",
    "\n",
    "# Initialize and train the model\n",
    "model = LinearRegression()\n",
    "model.fit(X_train_anova, y_train_anova)\n",
    "\n",
    "# Predict on the test set\n",
    "y_pred = model.predict(X_test_anova)\n"
   ]
  },
  {
   "cell_type": "code",
   "execution_count": null,
   "metadata": {},
   "outputs": [],
   "source": [
    "mse = mean_squared_error(y_test_anova, y_pred)\n",
    "print(f'Mean Squared Error: {mse}')"
   ]
  },
  {
   "cell_type": "code",
   "execution_count": null,
   "metadata": {},
   "outputs": [],
   "source": [
    "rmse = mean_squared_error(y_test_anova, y_pred, squared=False)\n",
    "print(f'Root Mean Squared Error: {rmse}')"
   ]
  },
  {
   "cell_type": "code",
   "execution_count": null,
   "metadata": {},
   "outputs": [],
   "source": [
    "mae = mean_absolute_error(y_test_anova, y_pred)\n",
    "print(f\"Mean Absolute Error: {mae}\")"
   ]
  },
  {
   "cell_type": "markdown",
   "metadata": {},
   "source": [
    "Mutual Information"
   ]
  },
  {
   "cell_type": "code",
   "execution_count": null,
   "metadata": {},
   "outputs": [],
   "source": [
    "# Calculate mutual information for each feature\n",
    "mi = mutual_info_regression(X, y)"
   ]
  },
  {
   "cell_type": "code",
   "execution_count": null,
   "metadata": {},
   "outputs": [],
   "source": [
    "# Create a DataFrame to display mutual information values for each feature\n",
    "mi_df = pd.DataFrame({'Feature': X.columns, 'Mutual Information': mi})"
   ]
  },
  {
   "cell_type": "code",
   "execution_count": null,
   "metadata": {},
   "outputs": [],
   "source": [
    "# Sort by mutual information score\n",
    "mi_df = mi_df.sort_values(by='Mutual Information', ascending=False)"
   ]
  },
  {
   "cell_type": "code",
   "execution_count": null,
   "metadata": {},
   "outputs": [],
   "source": [
    "# Print the mutual information scores\n",
    "print(mi_df)"
   ]
  },
  {
   "cell_type": "code",
   "execution_count": null,
   "metadata": {},
   "outputs": [],
   "source": [
    "# You can now select the most informative features based on the MI score\n",
    "# For example, selecting the top 5 features based on MI\n",
    "selected_features = mi_df['Feature'].head(5).values"
   ]
  },
  {
   "cell_type": "code",
   "execution_count": null,
   "metadata": {},
   "outputs": [],
   "source": [
    "# Split the data into training and testing sets using the selected features\n",
    "X_train, X_test, y_train, y_test = train_test_split(X[selected_features], y, test_size=0.3, random_state=42)\n"
   ]
  },
  {
   "cell_type": "code",
   "execution_count": null,
   "metadata": {},
   "outputs": [],
   "source": [
    "# Create a linear regression model\n",
    "linear_model = LinearRegression()\n",
    "\n",
    "# Train the model with the selected features\n",
    "linear_model.fit(X_train, y_train)\n",
    "\n",
    "# Make predictions on the test data using the selected features\n",
    "y_pred = linear_model.predict(X_test)\n",
    "\n",
    "# Calculate evaluation metrics\n",
    "mse = mean_squared_error(y_test, y_pred)\n",
    "mae = mean_absolute_error(y_test, y_pred)\n",
    "rmse = np.sqrt(mse)\n",
    "\n",
    "# Print the evaluation metrics\n",
    "print(f'Mean Squared Error (MSE): {mse}')\n",
    "print(f'Mean Absolute Error (MAE): {mae}')\n",
    "print(f'Root Mean Squared Error (RMSE): {rmse}')"
   ]
  }
 ],
 "metadata": {
  "kernelspec": {
   "display_name": ".venv",
   "language": "python",
   "name": "python3"
  },
  "language_info": {
   "codemirror_mode": {
    "name": "ipython",
    "version": 3
   },
   "file_extension": ".py",
   "mimetype": "text/x-python",
   "name": "python",
   "nbconvert_exporter": "python",
   "pygments_lexer": "ipython3",
   "version": "3.12.5"
  }
 },
 "nbformat": 4,
 "nbformat_minor": 2
}
