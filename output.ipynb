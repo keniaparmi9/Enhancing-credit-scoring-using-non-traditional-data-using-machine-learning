{
 "cells": [
  {
   "cell_type": "code",
   "execution_count": 7,
   "metadata": {},
   "outputs": [
    {
     "name": "stdout",
     "output_type": "stream",
     "text": [
      "Predicted Credit Score: 0.6456709168184591\n"
     ]
    }
   ],
   "source": [
    "import pandas as pd\n",
    "from sklearn.model_selection import train_test_split\n",
    "from xgboost import XGBRegressor\n",
    "from sklearn.ensemble import RandomForestRegressor\n",
    "\n",
    "df=pd.read_csv('/Users/parmikenia/Desktop/internship codes/combined_credit2.csv')\n",
    "X = df.drop(columns=['Customer_ID','Credit_Score'])\n",
    "y = df['Credit_Score']\n",
    "\n",
    "# Split data into training and testing sets\n",
    "X_train, X_test, y_train, y_test = train_test_split(X, y, test_size=0.2, random_state=42)\n",
    "\n",
    "rf = RandomForestRegressor(n_estimators=300, random_state=123)\n",
    "rf.fit(X_train, y_train)\n",
    "# Step 6: Predict and evaluate the model\n",
    "y_pred = rf.predict(X_test)\n",
    "\n",
    "\n",
    "# Example data based on your column names and expected input format.\n",
    "input_data = {\n",
    "    'Customer_ID': [12345],  # Replace with the real customer ID if needed\n",
    "    'Age': [30],  # Example age, replace with actual\n",
    "    'Income': [0.6244380811626330],  # Example income, replace with actual\n",
    "    'Loan_Amount': [0.9418202647137040],  # Example loan amount, replace with actual\n",
    "    'Loan_Term_Months': [1.0],  # Example loan term in months, replace with actual\n",
    "    'Rent_Payments': [0.8876629889669010],  # Example rent payment, replace with actual\n",
    "    'Utility_Payments_On_Time': [1],  # 1 if on time, 0 if not\n",
    "    'Mobile_Phone_Payment_On_Time': [1],  # 1 if on time, 0 if not\n",
    "    'Social_Media_Activity_Score': [0.846938775510204],  # Example score, replace with actual\n",
    "    'Transaction_Behavior_Score': [0.23469387755102000],  # Example transaction score, replace with actual\n",
    "    'gender_female': [1],\n",
    "    'gender_male': [0],\n",
    "    'gender_non-binary': [0],\n",
    "    'demographics_Rural': [0],\n",
    "    'demographics_Sub_Urban': [0],\n",
    "    'demographics_Urban': [1],\n",
    "    'profession_Marketer Manager': [0],\n",
    "    'profession_Software Engineer': [0],\n",
    "    'profession_Student': [1],\n",
    "    'social mediaplatform_Facebook': [1],\n",
    "    'social mediaplatform_Instagram': [0],\n",
    "    'social mediaplatform_YouTube': [0]\n",
    "}\n",
    "\n",
    "# Convert input data to DataFrame\n",
    "input_df = pd.DataFrame(input_data)\n",
    "\n",
    "# Drop 'Customer_ID' as it's not a feature\n",
    "input_df = input_df.drop(columns=['Customer_ID'])\n",
    "\n",
    "# Convert boolean columns to integer (True = 1, False = 0) if necessary\n",
    "input_df['Utility_Payments_On_Time'] = input_df['Utility_Payments_On_Time'].astype(int)\n",
    "input_df['Mobile_Phone_Payment_On_Time'] = input_df['Mobile_Phone_Payment_On_Time'].astype(int)\n",
    "\n",
    "\n",
    "# Predict the credit score for the aligned input data\n",
    "predicted_credit_score = rf.predict(input_df)\n",
    "\n",
    "print(f\"Predicted Credit Score: {predicted_credit_score[0]}\")"
   ]
  }
 ],
 "metadata": {
  "kernelspec": {
   "display_name": ".venv",
   "language": "python",
   "name": "python3"
  },
  "language_info": {
   "codemirror_mode": {
    "name": "ipython",
    "version": 3
   },
   "file_extension": ".py",
   "mimetype": "text/x-python",
   "name": "python",
   "nbconvert_exporter": "python",
   "pygments_lexer": "ipython3",
   "version": "3.12.5"
  }
 },
 "nbformat": 4,
 "nbformat_minor": 2
}
