{
 "cells": [
  {
   "cell_type": "code",
   "execution_count": 1,
   "metadata": {},
   "outputs": [],
   "source": [
    "import pandas as pd\n",
    "import numpy as np\n",
    "from sklearn.model_selection import train_test_split\n",
    "from sklearn.model_selection import GridSearchCV, KFold\n",
    "from sklearn.decomposition import PCA\n",
    "from sklearn.linear_model import LinearRegression\n",
    "from xgboost import XGBRegressor\n",
    "from sklearn.ensemble import GradientBoostingRegressor\n",
    "from sklearn.svm import SVR\n",
    "from sklearn.metrics import mean_squared_error,mean_absolute_error\n",
    "import seaborn as sns\n",
    "import matplotlib.pyplot as plt\n",
    "from sklearn.preprocessing import StandardScaler,MinMaxScaler\n"
   ]
  },
  {
   "cell_type": "code",
   "execution_count": 2,
   "metadata": {},
   "outputs": [],
   "source": [
    "df=pd.read_csv('/Users/parmikenia/Desktop/internship codes/combined_credit2.csv')"
   ]
  },
  {
   "cell_type": "code",
   "execution_count": 3,
   "metadata": {},
   "outputs": [],
   "source": [
    "X = df.drop(columns=['Customer_ID','Credit_Score'])\n",
    "y = df['Credit_Score']"
   ]
  },
  {
   "cell_type": "markdown",
   "metadata": {},
   "source": [
    "PCA"
   ]
  },
  {
   "cell_type": "code",
   "execution_count": 4,
   "metadata": {},
   "outputs": [],
   "source": [
    "X_train, X_test, y_train, y_test = train_test_split(X, y, test_size=0.2, random_state=0)"
   ]
  },
  {
   "cell_type": "code",
   "execution_count": 5,
   "metadata": {},
   "outputs": [],
   "source": [
    "#scaling and centering the data\n",
    "sc = StandardScaler()\n",
    "X_train_scaled = sc.fit_transform(X_train)\n",
    "X_test_scaled = sc.transform(X_test)"
   ]
  },
  {
   "cell_type": "code",
   "execution_count": 7,
   "metadata": {},
   "outputs": [],
   "source": [
    "pca = PCA()\n",
    "pca = PCA(n_components=5,)\n",
    "principalComponents = pca.fit_transform(X_train_scaled)\n",
    "pca_df = pd.DataFrame(data = principalComponents, columns = ['principal component 1', 'principal component 2','principal component 3','principal component 4','principal component 5'])"
   ]
  },
  {
   "cell_type": "code",
   "execution_count": 8,
   "metadata": {},
   "outputs": [],
   "source": [
    "column_names = X.columns.to_list()"
   ]
  },
  {
   "cell_type": "code",
   "execution_count": 9,
   "metadata": {},
   "outputs": [
    {
     "name": "stdout",
     "output_type": "stream",
     "text": [
      "\n",
      "Principal Component 1:\n",
      "gender_non-binary: 0.47\n",
      "demographics_Sub_Urban: 0.36\n",
      "\n",
      "Principal Component 2:\n",
      "gender_male: 0.47\n",
      "social mediaplatform_Facebook: 0.41\n",
      "\n",
      "Principal Component 3:\n",
      "profession_Marketer Manager: 0.47\n",
      "social mediaplatform_Instagram: 0.41\n",
      "demographics_Sub_Urban: 0.38\n",
      "\n",
      "Principal Component 4:\n",
      "profession_Software Engineer: 0.67\n",
      "\n",
      "Principal Component 5:\n",
      "demographics_Rural: 0.45\n",
      "profession_Marketer Manager: 0.42\n",
      "social mediaplatform_YouTube: 0.41\n"
     ]
    }
   ],
   "source": [
    "all_selected_features = []\n",
    "for i, component in enumerate(pca.components_):\n",
    "    print(f\"\\nPrincipal Component {i+1}:\")\n",
    "    feature_weights = [(column_names[j], component[j]) for j in range(len(column_names))]\n",
    "    feature_weights.sort(key=lambda x: abs(x[1]), reverse=True)\n",
    "    for feature, weight in feature_weights:\n",
    "      if weight > 0.3:\n",
    "        if feature not in all_selected_features:\n",
    "          all_selected_features.append(feature)\n",
    "        print(f\"{feature}: {weight:.2f}\")"
   ]
  },
  {
   "cell_type": "code",
   "execution_count": 10,
   "metadata": {},
   "outputs": [
    {
     "data": {
      "text/plain": [
       "['gender_non-binary',\n",
       " 'demographics_Sub_Urban',\n",
       " 'gender_male',\n",
       " 'social mediaplatform_Facebook',\n",
       " 'profession_Marketer Manager',\n",
       " 'social mediaplatform_Instagram',\n",
       " 'profession_Software Engineer',\n",
       " 'demographics_Rural',\n",
       " 'social mediaplatform_YouTube']"
      ]
     },
     "execution_count": 10,
     "metadata": {},
     "output_type": "execute_result"
    }
   ],
   "source": [
    "all_selected_features"
   ]
  },
  {
   "cell_type": "code",
   "execution_count": 11,
   "metadata": {},
   "outputs": [
    {
     "data": {
      "text/html": [
       "<div>\n",
       "<style scoped>\n",
       "    .dataframe tbody tr th:only-of-type {\n",
       "        vertical-align: middle;\n",
       "    }\n",
       "\n",
       "    .dataframe tbody tr th {\n",
       "        vertical-align: top;\n",
       "    }\n",
       "\n",
       "    .dataframe thead th {\n",
       "        text-align: right;\n",
       "    }\n",
       "</style>\n",
       "<table border=\"1\" class=\"dataframe\">\n",
       "  <thead>\n",
       "    <tr style=\"text-align: right;\">\n",
       "      <th></th>\n",
       "      <th>gender_non-binary</th>\n",
       "      <th>demographics_Sub_Urban</th>\n",
       "      <th>gender_male</th>\n",
       "      <th>social mediaplatform_Facebook</th>\n",
       "      <th>profession_Marketer Manager</th>\n",
       "      <th>social mediaplatform_Instagram</th>\n",
       "      <th>profession_Software Engineer</th>\n",
       "      <th>demographics_Rural</th>\n",
       "      <th>social mediaplatform_YouTube</th>\n",
       "      <th>Credit_Score</th>\n",
       "    </tr>\n",
       "  </thead>\n",
       "  <tbody>\n",
       "    <tr>\n",
       "      <th>0</th>\n",
       "      <td>False</td>\n",
       "      <td>False</td>\n",
       "      <td>True</td>\n",
       "      <td>False</td>\n",
       "      <td>False</td>\n",
       "      <td>True</td>\n",
       "      <td>True</td>\n",
       "      <td>False</td>\n",
       "      <td>False</td>\n",
       "      <td>0.185792</td>\n",
       "    </tr>\n",
       "    <tr>\n",
       "      <th>1</th>\n",
       "      <td>False</td>\n",
       "      <td>False</td>\n",
       "      <td>False</td>\n",
       "      <td>True</td>\n",
       "      <td>False</td>\n",
       "      <td>False</td>\n",
       "      <td>False</td>\n",
       "      <td>False</td>\n",
       "      <td>False</td>\n",
       "      <td>0.792350</td>\n",
       "    </tr>\n",
       "    <tr>\n",
       "      <th>2</th>\n",
       "      <td>False</td>\n",
       "      <td>True</td>\n",
       "      <td>True</td>\n",
       "      <td>False</td>\n",
       "      <td>True</td>\n",
       "      <td>True</td>\n",
       "      <td>False</td>\n",
       "      <td>False</td>\n",
       "      <td>False</td>\n",
       "      <td>0.491803</td>\n",
       "    </tr>\n",
       "    <tr>\n",
       "      <th>3</th>\n",
       "      <td>True</td>\n",
       "      <td>False</td>\n",
       "      <td>False</td>\n",
       "      <td>False</td>\n",
       "      <td>False</td>\n",
       "      <td>True</td>\n",
       "      <td>False</td>\n",
       "      <td>False</td>\n",
       "      <td>False</td>\n",
       "      <td>0.193078</td>\n",
       "    </tr>\n",
       "    <tr>\n",
       "      <th>4</th>\n",
       "      <td>False</td>\n",
       "      <td>False</td>\n",
       "      <td>True</td>\n",
       "      <td>False</td>\n",
       "      <td>False</td>\n",
       "      <td>True</td>\n",
       "      <td>True</td>\n",
       "      <td>False</td>\n",
       "      <td>False</td>\n",
       "      <td>0.129326</td>\n",
       "    </tr>\n",
       "    <tr>\n",
       "      <th>...</th>\n",
       "      <td>...</td>\n",
       "      <td>...</td>\n",
       "      <td>...</td>\n",
       "      <td>...</td>\n",
       "      <td>...</td>\n",
       "      <td>...</td>\n",
       "      <td>...</td>\n",
       "      <td>...</td>\n",
       "      <td>...</td>\n",
       "      <td>...</td>\n",
       "    </tr>\n",
       "    <tr>\n",
       "      <th>995</th>\n",
       "      <td>False</td>\n",
       "      <td>False</td>\n",
       "      <td>False</td>\n",
       "      <td>False</td>\n",
       "      <td>True</td>\n",
       "      <td>True</td>\n",
       "      <td>False</td>\n",
       "      <td>True</td>\n",
       "      <td>False</td>\n",
       "      <td>0.029144</td>\n",
       "    </tr>\n",
       "    <tr>\n",
       "      <th>996</th>\n",
       "      <td>True</td>\n",
       "      <td>False</td>\n",
       "      <td>False</td>\n",
       "      <td>False</td>\n",
       "      <td>False</td>\n",
       "      <td>False</td>\n",
       "      <td>True</td>\n",
       "      <td>True</td>\n",
       "      <td>True</td>\n",
       "      <td>0.276867</td>\n",
       "    </tr>\n",
       "    <tr>\n",
       "      <th>997</th>\n",
       "      <td>True</td>\n",
       "      <td>False</td>\n",
       "      <td>False</td>\n",
       "      <td>False</td>\n",
       "      <td>False</td>\n",
       "      <td>False</td>\n",
       "      <td>False</td>\n",
       "      <td>True</td>\n",
       "      <td>True</td>\n",
       "      <td>0.686703</td>\n",
       "    </tr>\n",
       "    <tr>\n",
       "      <th>998</th>\n",
       "      <td>False</td>\n",
       "      <td>True</td>\n",
       "      <td>False</td>\n",
       "      <td>False</td>\n",
       "      <td>True</td>\n",
       "      <td>False</td>\n",
       "      <td>False</td>\n",
       "      <td>False</td>\n",
       "      <td>True</td>\n",
       "      <td>0.621129</td>\n",
       "    </tr>\n",
       "    <tr>\n",
       "      <th>999</th>\n",
       "      <td>False</td>\n",
       "      <td>False</td>\n",
       "      <td>False</td>\n",
       "      <td>False</td>\n",
       "      <td>False</td>\n",
       "      <td>False</td>\n",
       "      <td>False</td>\n",
       "      <td>True</td>\n",
       "      <td>True</td>\n",
       "      <td>0.047359</td>\n",
       "    </tr>\n",
       "  </tbody>\n",
       "</table>\n",
       "<p>1000 rows × 10 columns</p>\n",
       "</div>"
      ],
      "text/plain": [
       "     gender_non-binary  demographics_Sub_Urban  gender_male  \\\n",
       "0                False                   False         True   \n",
       "1                False                   False        False   \n",
       "2                False                    True         True   \n",
       "3                 True                   False        False   \n",
       "4                False                   False         True   \n",
       "..                 ...                     ...          ...   \n",
       "995              False                   False        False   \n",
       "996               True                   False        False   \n",
       "997               True                   False        False   \n",
       "998              False                    True        False   \n",
       "999              False                   False        False   \n",
       "\n",
       "     social mediaplatform_Facebook  profession_Marketer Manager  \\\n",
       "0                            False                        False   \n",
       "1                             True                        False   \n",
       "2                            False                         True   \n",
       "3                            False                        False   \n",
       "4                            False                        False   \n",
       "..                             ...                          ...   \n",
       "995                          False                         True   \n",
       "996                          False                        False   \n",
       "997                          False                        False   \n",
       "998                          False                         True   \n",
       "999                          False                        False   \n",
       "\n",
       "     social mediaplatform_Instagram  profession_Software Engineer  \\\n",
       "0                              True                          True   \n",
       "1                             False                         False   \n",
       "2                              True                         False   \n",
       "3                              True                         False   \n",
       "4                              True                          True   \n",
       "..                              ...                           ...   \n",
       "995                            True                         False   \n",
       "996                           False                          True   \n",
       "997                           False                         False   \n",
       "998                           False                         False   \n",
       "999                           False                         False   \n",
       "\n",
       "     demographics_Rural  social mediaplatform_YouTube  Credit_Score  \n",
       "0                 False                         False      0.185792  \n",
       "1                 False                         False      0.792350  \n",
       "2                 False                         False      0.491803  \n",
       "3                 False                         False      0.193078  \n",
       "4                 False                         False      0.129326  \n",
       "..                  ...                           ...           ...  \n",
       "995                True                         False      0.029144  \n",
       "996                True                          True      0.276867  \n",
       "997                True                          True      0.686703  \n",
       "998               False                          True      0.621129  \n",
       "999                True                          True      0.047359  \n",
       "\n",
       "[1000 rows x 10 columns]"
      ]
     },
     "execution_count": 11,
     "metadata": {},
     "output_type": "execute_result"
    }
   ],
   "source": [
    "new_df = df[all_selected_features].copy()\n",
    "new_df['Credit_Score']=df['Credit_Score'].copy()\n",
    "new_df"
   ]
  },
  {
   "cell_type": "code",
   "execution_count": 12,
   "metadata": {},
   "outputs": [],
   "source": [
    "X_pca_selected =new_df.drop(columns='Credit_Score',axis=1)\n",
    "y_pca_selected = new_df['Credit_Score']"
   ]
  },
  {
   "cell_type": "code",
   "execution_count": 13,
   "metadata": {},
   "outputs": [],
   "source": [
    "\n",
    "X_train_pca_selected, X_test_pca_selected, y_train_pca_selected, y_test_pca_selected = train_test_split(X_pca_selected, y_pca_selected, test_size=0.2, random_state=42)\n",
    "\n",
    "# Gradient Boosting Regressor with selected features\n",
    "gbm_model = GradientBoostingRegressor(random_state=42)\n",
    "gbm_model.fit(X_train_pca_selected, y_train)\n",
    "\n",
    "# Predictions\n",
    "y_pred = gbm_model.predict(X_test_pca_selected)"
   ]
  },
  {
   "cell_type": "code",
   "execution_count": 14,
   "metadata": {},
   "outputs": [
    {
     "name": "stdout",
     "output_type": "stream",
     "text": [
      "Mean Squared Error: 0.09495578228425382\n",
      "Root Mean Squared Error: 0.3081489611928845\n",
      "Mean Absolute Error: 0.2649951206823189\n"
     ]
    },
    {
     "name": "stderr",
     "output_type": "stream",
     "text": [
      "/Users/parmikenia/Desktop/internship codes/.venv/lib/python3.12/site-packages/sklearn/metrics/_regression.py:492: FutureWarning: 'squared' is deprecated in version 1.4 and will be removed in 1.6. To calculate the root mean squared error, use the function'root_mean_squared_error'.\n",
      "  warnings.warn(\n"
     ]
    }
   ],
   "source": [
    "# Evaluate the model\n",
    "mse = mean_squared_error(y_test_pca_selected, y_pred)\n",
    "print(f'Mean Squared Error: {mse}')\n",
    "\n",
    "rmse = mean_squared_error(y_test_pca_selected, y_pred, squared=False)\n",
    "print(f'Root Mean Squared Error: {rmse}')\n",
    "\n",
    "mae = mean_absolute_error(y_test_pca_selected, y_pred)\n",
    "print(f\"Mean Absolute Error: {mae}\")"
   ]
  },
  {
   "cell_type": "code",
   "execution_count": 15,
   "metadata": {},
   "outputs": [],
   "source": [
    "pca_df.reset_index(drop=True, inplace=True)\n",
    "y_train.reset_index(drop=True, inplace=True)"
   ]
  },
  {
   "cell_type": "code",
   "execution_count": 16,
   "metadata": {},
   "outputs": [],
   "source": [
    "final_pca_df = pca_df\n",
    "final_pca_df['target'] = y_train"
   ]
  },
  {
   "cell_type": "code",
   "execution_count": 17,
   "metadata": {},
   "outputs": [
    {
     "name": "stderr",
     "output_type": "stream",
     "text": [
      "/Users/parmikenia/Desktop/internship codes/.venv/lib/python3.12/site-packages/sklearn/ensemble/_gb.py:668: DataConversionWarning: A column-vector y was passed when a 1d array was expected. Please change the shape of y to (n_samples, ), for example using ravel().\n",
      "  y = column_or_1d(y, warn=True)  # TODO: Is this still required?\n"
     ]
    }
   ],
   "source": [
    "X_train_final, X_test_final, y_train_final, y_test_final = train_test_split(final_pca_df.iloc[:,:-1], final_pca_df.iloc[:,-1:], test_size=0.2, random_state=0)\n",
    "\n",
    "# Gradient Boosting Regressor with selected features\n",
    "gbm_model = GradientBoostingRegressor(random_state=42)\n",
    "gbm_model.fit(X_train_final, y_train_final)\n",
    "\n",
    "# Predictions\n",
    "y_pred = gbm_model.predict(X_test_final)"
   ]
  },
  {
   "cell_type": "code",
   "execution_count": 18,
   "metadata": {},
   "outputs": [
    {
     "name": "stdout",
     "output_type": "stream",
     "text": [
      "Mean Squared Error: 0.08717683549722763\n",
      "Root Mean Squared Error: 0.29525723614710553\n",
      "Mean Absolute Error: 0.25087136077990496\n"
     ]
    },
    {
     "name": "stderr",
     "output_type": "stream",
     "text": [
      "/Users/parmikenia/Desktop/internship codes/.venv/lib/python3.12/site-packages/sklearn/metrics/_regression.py:492: FutureWarning: 'squared' is deprecated in version 1.4 and will be removed in 1.6. To calculate the root mean squared error, use the function'root_mean_squared_error'.\n",
      "  warnings.warn(\n"
     ]
    }
   ],
   "source": [
    "# Evaluate the model\n",
    "mse = mean_squared_error(y_test_final, y_pred)\n",
    "print(f'Mean Squared Error: {mse}')\n",
    "\n",
    "rmse = mean_squared_error(y_test_final, y_pred, squared=False)\n",
    "print(f'Root Mean Squared Error: {rmse}')\n",
    "\n",
    "mae = mean_absolute_error(y_test_final, y_pred)\n",
    "print(f\"Mean Absolute Error: {mae}\")"
   ]
  },
  {
   "cell_type": "code",
   "execution_count": 22,
   "metadata": {},
   "outputs": [
    {
     "data": {
      "image/png": "[encoded data removed]",
      "text/plain": [
       "<Figure size 1000x600 with 1 Axes>"
      ]
     },
     "metadata": {},
     "output_type": "display_data"
    }
   ],
   "source": [
    "import matplotlib.pyplot as plt\n",
    "import pandas as pd\n",
    "\n",
    "# Convert y_test_final and y_pred to numeric to ensure no string values\n",
    "y_test_final = pd.to_numeric(y_test_final.squeeze(), errors='coerce')  # squeeze to get Series if it's a DataFrame\n",
    "y_pred = pd.to_numeric(y_pred, errors='coerce')\n",
    "\n",
    "# Drop any NaN values (in case conversion failed on some values)\n",
    "y_test_final = y_test_final.dropna()\n",
    "y_pred = y_pred[:len(y_test_final)]  # Ensure y_pred has same length as y_test_final\n",
    "\n",
    "# Plot Regression Line (Actual vs. Predicted)\n",
    "plt.figure(figsize=(10, 6))\n",
    "plt.scatter(y_test_final, y_pred, color=\"blue\", alpha=0.5, label=\"Predicted vs Actual\")\n",
    "\n",
    "# Ideal fit line (where predicted = actual)\n",
    "min_val = min(min(y_test_final), min(y_pred))\n",
    "max_val = max(max(y_test_final), max(y_pred))\n",
    "plt.plot([min_val, max_val], [min_val, max_val], color=\"red\", linestyle=\"--\", label=\"Ideal Fit\")\n",
    "\n",
    "# Add labels and title\n",
    "plt.xlabel(\"Actual Values (Credit Score)\")\n",
    "plt.ylabel(\"Predicted Values (Credit Score)\")\n",
    "plt.title(\"Regression Line: Actual vs Predicted Credit Score\")\n",
    "plt.legend()\n",
    "plt.grid(True)\n",
    "plt.show()\n"
   ]
  }
 ],
 "metadata": {
  "kernelspec": {
   "display_name": ".venv",
   "language": "python",
   "name": "python3"
  },
  "language_info": {
   "codemirror_mode": {
    "name": "ipython",
    "version": 3
   },
   "file_extension": ".py",
   "mimetype": "text/x-python",
   "name": "python",
   "nbconvert_exporter": "python",
   "pygments_lexer": "ipython3",
   "version": "3.12.5"
  }
 },
 "nbformat": 4,
 "nbformat_minor": 2
}
