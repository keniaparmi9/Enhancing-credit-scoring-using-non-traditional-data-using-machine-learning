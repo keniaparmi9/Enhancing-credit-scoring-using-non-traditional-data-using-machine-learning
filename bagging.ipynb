{
 "cells": [
  {
   "cell_type": "code",
   "execution_count": null,
   "metadata": {},
   "outputs": [],
   "source": [
    "from sklearn.linear_model import Lasso\n",
    "from sklearn.ensemble import BaggingRegressor\n",
    "from sklearn.metrics import mean_squared_error, mean_absolute_error\n",
    "from sklearn.model_selection import train_test_split\n",
    "from sklearn.preprocessing import StandardScaler\n",
    "import numpy as np\n",
    "import pandas as pd\n",
    "\n",
    "df=pd.read_csv('/Users/parmikenia/Desktop/internship codes/combined_credit2.csv')\n",
    "\n",
    "X = df.drop(columns=['Customer_ID','Credit_Score'])\n",
    "y = df['Credit_Score']\n",
    "\n",
    "\n",
    "# Train-test split\n",
    "X_train, X_test, y_train, y_test = train_test_split(X, y, test_size=0.3, random_state=42)\n",
    "\n",
    "# Standardizing the data\n",
    "scaler = StandardScaler()\n",
    "X_train_scaled = scaler.fit_transform(X_train)\n",
    "X_test_scaled = scaler.transform(X_test)\n",
    "\n",
    "# LASSO Regression (L1) for feature selection\n",
    "lasso = Lasso(alpha=0.01)\n",
    "lasso.fit(X_train_scaled, y_train)\n",
    "\n",
    "# Selecting features with non-zero coefficients\n",
    "selected_features = np.where(lasso.coef_ != 0)[0]\n",
    "X_train_selected = X_train_scaled[:, selected_features]\n",
    "X_test_selected = X_test_scaled[:, selected_features]\n",
    "\n",
    "# Bagging Regressor with selected features\n",
    "bagging_model = BaggingRegressor(random_state=42)\n",
    "bagging_model.fit(X_train_selected, y_train)\n",
    "\n",
    "# Predictions\n",
    "y_pred = bagging_model.predict(X_test_selected)\n",
    "\n",
    "# Evaluation metrics\n",
    "mse = mean_squared_error(y_test, y_pred)\n",
    "rmse = np.sqrt(mse)\n",
    "mae = mean_absolute_error(y_test, y_pred)\n",
    "\n",
    "mse, rmse, mae\n"
   ]
  },
  {
   "cell_type": "markdown",
   "metadata": {},
   "source": [
    " LASSO up"
   ]
  },
  {
   "cell_type": "code",
   "execution_count": 1,
   "metadata": {},
   "outputs": [],
   "source": [
    "import pandas as pd\n",
    "import numpy as np\n",
    "from sklearn.model_selection import train_test_split\n",
    "from sklearn.model_selection import StratifiedKFold\n",
    "from sklearn.model_selection import GridSearchCV, KFold\n",
    "from sklearn.decomposition import PCA\n",
    "from sklearn.linear_model import Lasso\n",
    "from sklearn.ensemble import RandomForestRegressor\n",
    "from sklearn.ensemble import BaggingRegressor\n",
    "from sklearn.linear_model import LinearRegression\n",
    "from sklearn.linear_model import Ridge\n",
    "from sklearn.feature_selection import mutual_info_regression\n",
    "from sklearn.feature_selection import SequentialFeatureSelector\n",
    "from sklearn.feature_selection import SelectFromModel\n",
    "from sklearn.feature_selection import RFE\n",
    "from sklearn.feature_selection import RFECV\n",
    "from sklearn.metrics import mean_squared_error,mean_absolute_error, mean_absolute_percentage_error\n",
    "import seaborn as sns\n",
    "from sklearn.feature_selection import f_classif \n",
    "from sklearn.feature_selection import SelectKBest, f_regression , mutual_info_regression\n",
    "import matplotlib.pyplot as plt\n",
    "from sklearn.preprocessing import StandardScaler,MinMaxScaler"
   ]
  },
  {
   "cell_type": "code",
   "execution_count": 2,
   "metadata": {},
   "outputs": [],
   "source": [
    "df=pd.read_csv('/Users/parmikenia/Desktop/internship codes/combined_credit2.csv')"
   ]
  },
  {
   "cell_type": "code",
   "execution_count": 3,
   "metadata": {},
   "outputs": [],
   "source": [
    "X = df.drop(columns=['Customer_ID','Credit_Score'])\n",
    "y = df['Credit_Score'].values.reshape(-1, 1)"
   ]
  },
  {
   "cell_type": "code",
   "execution_count": null,
   "metadata": {},
   "outputs": [],
   "source": [
    "# Save the column names before scaling\n",
    "#feature_names = X.columns.to_list()"
   ]
  },
  {
   "cell_type": "code",
   "execution_count": null,
   "metadata": {},
   "outputs": [],
   "source": [
    "#scaler = MinMaxScaler()\n",
    "\n",
    "# Fit and transform the data\n",
    "#X = scaler.fit_transform(X)\n",
    "#y = scaler.fit_transform(y)"
   ]
  },
  {
   "cell_type": "code",
   "execution_count": 4,
   "metadata": {},
   "outputs": [],
   "source": [
    "X_train, X_test, y_train, y_test = train_test_split(X, y, test_size=0.2, random_state=42)"
   ]
  },
  {
   "cell_type": "code",
   "execution_count": 5,
   "metadata": {},
   "outputs": [],
   "source": [
    "# Standardizing the data\n",
    "scaler = StandardScaler()\n",
    "X_train_scaled = scaler.fit_transform(X_train)\n",
    "X_test_scaled = scaler.transform(X_test)"
   ]
  },
  {
   "cell_type": "markdown",
   "metadata": {},
   "source": [
    "ANOVA "
   ]
  },
  {
   "cell_type": "code",
   "execution_count": null,
   "metadata": {},
   "outputs": [],
   "source": [
    "# Step 1: ANOVA F-test for feature selection\n",
    "# SelectKBest will choose the top 'k' features based on ANOVA F-test scores\n",
    "k = 20 # Adjust 'k' to select the number of features you want\n",
    "selector = SelectKBest(score_func=f_regression, k=k)\n",
    "X_train_selected = selector.fit_transform(X_train_scaled, y_train)\n",
    "X_test_selected = selector.transform(X_test_scaled)\n",
    "\n",
    "# Get the selected feature indices and corresponding feature names\n",
    "selected_feature_indices = selector.get_support(indices=True)\n",
    "selected_feature_names = X.columns[selected_feature_indices]\n",
    "\n",
    "# Print the selected features\n",
    "print(f'Selected features by ANOVA F-test: {selected_feature_names}')\n",
    "\n",
    "\n",
    "# Step 2: Bagging Regressor with selected features\n",
    "bagging_model = BaggingRegressor(random_state=42)\n",
    "bagging_model.fit(X_train_selected, y_train)\n",
    "\n",
    "# Step 3: Predictions\n",
    "y_pred = bagging_model.predict(X_test_selected)\n",
    "\n",
    "\n",
    "mse = mean_squared_error(y_test, y_pred)\n",
    "print(f'Mean Squared Error: {mse}')\n",
    "\n",
    "rmse = mean_squared_error(y_test, y_pred, squared=False)\n",
    "print(f'Root Mean Squared Error: {rmse}')\n",
    "\n",
    "mae = mean_absolute_error(y_test, y_pred)\n",
    "# Output the results\n",
    "print(f\"Mean Absolute Error: {mae}\")"
   ]
  },
  {
   "cell_type": "markdown",
   "metadata": {},
   "source": [
    "Mutual Information"
   ]
  },
  {
   "cell_type": "code",
   "execution_count": null,
   "metadata": {},
   "outputs": [],
   "source": [
    "# Step 1: Mutual Information for feature selection\n",
    "# SelectKBest will choose the top 'k' features based on MI scores\n",
    "k = 23 # Adjust 'k' to select the number of features you want\n",
    "selector = SelectKBest(score_func=mutual_info_regression, k=k)\n",
    "X_train_selected = selector.fit_transform(X_train_scaled, y_train)\n",
    "X_test_selected = selector.transform(X_test_scaled)\n",
    "\n",
    "# Get the selected feature indices and corresponding feature names\n",
    "selected_feature_indices = selector.get_support(indices=True)\n",
    "selected_feature_names = X.columns[selected_feature_indices]\n",
    "\n",
    "# Print the selected features\n",
    "print(f'Selected features by Mutual Information: {selected_feature_names}')\n",
    "\n",
    "# Step 2: Bagging Regressor with selected features\n",
    "bagging_model = BaggingRegressor(random_state=42)\n",
    "bagging_model.fit(X_train_selected, y_train)\n",
    "# Predictions\n",
    "y_pred = bagging_model.predict(X_test_selected)\n",
    "mse = mean_squared_error(y_test, y_pred)\n",
    "print(f'Mean Squared Error: {mse}')\n",
    "\n",
    "rmse = mean_squared_error(y_test, y_pred, squared=False)\n",
    "print(f'Root Mean Squared Error: {rmse}')\n",
    "\n",
    "mae = mean_absolute_error(y_test, y_pred)\n",
    "# Output the results\n",
    "print(f\"Mean Absolute Error: {mae}\")"
   ]
  },
  {
   "cell_type": "markdown",
   "metadata": {},
   "source": [
    "FORWARD"
   ]
  },
  {
   "cell_type": "code",
   "execution_count": 6,
   "metadata": {},
   "outputs": [
    {
     "name": "stdout",
     "output_type": "stream",
     "text": [
      "Selected features by Forward Feature Selection: Index(['Age', 'Income', 'Loan_Amount', 'Loan_Term_Months', 'Rent_Payments',\n",
      "       'Utility_Payments_On_Time', 'Mobile_Phone_Payment_On_Time',\n",
      "       'Social_Media_Activity_Score', 'Transaction_Behavior_Score',\n",
      "       'gender_female', 'gender_male', 'gender_non-binary',\n",
      "       'demographics_Rural', 'demographics_Sub_Urban', 'demographics_Urban',\n",
      "       'profession_Marketer Manager', 'profession_Software Engineer',\n",
      "       'profession_Student', 'social mediaplatform_Instagram',\n",
      "       'social mediaplatform_YouTube'],\n",
      "      dtype='object')\n",
      "Mean Squared Error: 0.08953958580097612\n",
      "Root Mean Squared Error: 0.29923165908870025\n",
      "Mean Absolute Error: 0.25333515482695806\n"
     ]
    },
    {
     "name": "stderr",
     "output_type": "stream",
     "text": [
      "/Users/parmikenia/Desktop/internship codes/.venv/lib/python3.12/site-packages/sklearn/ensemble/_bagging.py:581: DataConversionWarning: A column-vector y was passed when a 1d array was expected. Please change the shape of y to (n_samples, ), for example using ravel().\n",
      "  return column_or_1d(y, warn=True)\n",
      "/Users/parmikenia/Desktop/internship codes/.venv/lib/python3.12/site-packages/sklearn/metrics/_regression.py:492: FutureWarning: 'squared' is deprecated in version 1.4 and will be removed in 1.6. To calculate the root mean squared error, use the function'root_mean_squared_error'.\n",
      "  warnings.warn(\n"
     ]
    }
   ],
   "source": [
    "# Step 1: Forward Feature Selection using Ridge as base estimator\n",
    "# You can adjust n_features_to_select to control the number of features to be selected\n",
    "ridge = Ridge()\n",
    "sfs = SequentialFeatureSelector(ridge, n_features_to_select=20, direction='forward')\n",
    "sfs.fit(X_train_scaled, y_train)\n",
    "\n",
    "# Get the selected feature indices and corresponding feature names\n",
    "selected_feature_indices = sfs.get_support(indices=True)\n",
    "selected_feature_names = X.columns[selected_feature_indices]\n",
    "\n",
    "# Print the selected features\n",
    "print(f'Selected features by Forward Feature Selection: {selected_feature_names}')\n",
    "# Step 2: Bagging Regressor with selected features\n",
    "X_train_selected = sfs.transform(X_train_scaled)\n",
    "X_test_selected = sfs.transform(X_test_scaled)\n",
    "\n",
    "bagging_model = BaggingRegressor(random_state=42)\n",
    "bagging_model.fit(X_train_selected, y_train)\n",
    "\n",
    "# Step 3: Predictions\n",
    "y_pred = bagging_model.predict(X_test_selected)\n",
    "mse = mean_squared_error(y_test, y_pred)\n",
    "print(f'Mean Squared Error: {mse}')\n",
    "\n",
    "rmse = mean_squared_error(y_test, y_pred, squared=False)\n",
    "print(f'Root Mean Squared Error: {rmse}')\n",
    "\n",
    "mae = mean_absolute_error(y_test, y_pred)\n",
    "# Output the results\n",
    "print(f\"Mean Absolute Error: {mae}\")"
   ]
  },
  {
   "cell_type": "code",
   "execution_count": 8,
   "metadata": {},
   "outputs": [
    {
     "data": {
      "image/png": "[encoded data removed]",
      "text/plain": [
       "<Figure size 1000x600 with 1 Axes>"
      ]
     },
     "metadata": {},
     "output_type": "display_data"
    }
   ],
   "source": [
    "# Step 4: Plot regression line (Actual vs. Predicted values)\n",
    "import matplotlib.pyplot as plt\n",
    "\n",
    "plt.figure(figsize=(10, 6))\n",
    "\n",
    "# Scatter plot of actual vs predicted values\n",
    "plt.scatter(y_test, y_pred, color=\"blue\", alpha=0.5, label=\"Predicted vs Actual\")\n",
    "\n",
    "# Ideal fit line (where predicted = actual)\n",
    "min_val = min(min(y_test), min(y_pred))\n",
    "max_val = max(max(y_test), max(y_pred))\n",
    "plt.plot([min_val, max_val], [min_val, max_val], color=\"red\", linestyle=\"--\", label=\"Ideal Fit\")\n",
    "\n",
    "# Add labels and title\n",
    "plt.xlabel(\"Actual Values (Credit Score)\")\n",
    "plt.ylabel(\"Predicted Values (Credit Score)\")\n",
    "plt.title(\"Regression Line: Actual vs Predicted Credit Score\")\n",
    "plt.legend()\n",
    "plt.grid(True)\n",
    "plt.show()\n"
   ]
  },
  {
   "cell_type": "markdown",
   "metadata": {},
   "source": [
    "RANDOM FOREST FEATURE IMPORTANCE"
   ]
  },
  {
   "cell_type": "code",
   "execution_count": null,
   "metadata": {},
   "outputs": [],
   "source": [
    "# Step 1: Train a Random Forest for feature importance\n",
    "random_forest = RandomForestRegressor(random_state=42)\n",
    "random_forest.fit(X_train_scaled, y_train)\n",
    "# Step 2: Extract feature importances from the Random Forest model\n",
    "feature_importances = random_forest.feature_importances_\n",
    "# Step 3: Select top k features based on importance\n",
    "k = 28 # Select top 'k' features\n",
    "indices = np.argsort(feature_importances)[-k:]  # Indices of top 'k' features\n",
    "selected_feature_names = X.columns[indices]\n",
    "\n",
    "# Print the selected features\n",
    "print(f'Selected features based on Random Forest importance: {selected_feature_names}')\n",
    "# Step 4: Use the selected features for training the Bagging Regressor\n",
    "X_train_selected = X_train_scaled[:, indices]\n",
    "X_test_selected = X_test_scaled[:, indices]\n",
    "\n",
    "# Step 5: Train the Bagging Regressor model\n",
    "bagging_model = BaggingRegressor(random_state=42)\n",
    "bagging_model.fit(X_train_selected, y_train)\n",
    "\n",
    "# Step 6: Predictions\n",
    "y_pred = bagging_model.predict(X_test_selected)\n",
    "mse = mean_squared_error(y_test, y_pred)\n",
    "print(f'Mean Squared Error: {mse}')\n",
    "\n",
    "rmse = mean_squared_error(y_test, y_pred, squared=False)\n",
    "print(f'Root Mean Squared Error: {rmse}')\n",
    "\n",
    "mae = mean_absolute_error(y_test, y_pred)\n",
    "# Output the results\n",
    "print(f\"Mean Absolute Error: {mae}\")"
   ]
  },
  {
   "cell_type": "markdown",
   "metadata": {},
   "source": [
    "RFECV"
   ]
  },
  {
   "cell_type": "code",
   "execution_count": null,
   "metadata": {},
   "outputs": [],
   "source": [
    "# Step 1: RFE for feature selection using RandomForestRegressor as the base model\n",
    "# You can use any estimator with feature importance like RandomForestRegressor\n",
    "random_forest = RandomForestRegressor(random_state=42)\n",
    "rfe = RFE(estimator=random_forest, n_features_to_select=10)\n",
    "rfe.fit(X_train_scaled, y_train)\n",
    "\n",
    "# Get the selected feature indices and corresponding feature names\n",
    "selected_feature_indices = rfe.get_support(indices=True)\n",
    "selected_feature_names = X.columns[selected_feature_indices]\n",
    "\n",
    "# Print the selected features\n",
    "print(f'Selected features by RFE: {selected_feature_names}')\n",
    "# Step 2: Bagging Regressor with selected features\n",
    "X_train_selected = rfe.transform(X_train_scaled)\n",
    "X_test_selected = rfe.transform(X_test_scaled)\n",
    "\n",
    "bagging_model = BaggingRegressor(random_state=42)\n",
    "bagging_model.fit(X_train_selected, y_train)\n",
    "\n",
    "# Step 3: Predictions\n",
    "y_pred = bagging_model.predict(X_test_selected)\n",
    "mse = mean_squared_error(y_test, y_pred)\n",
    "print(f'Mean Squared Error: {mse}')\n",
    "\n",
    "rmse = mean_squared_error(y_test, y_pred, squared=False)\n",
    "print(f'Root Mean Squared Error: {rmse}')\n",
    "\n",
    "mae = mean_absolute_error(y_test, y_pred)\n",
    "# Output the results\n",
    "print(f\"Mean Absolute Error: {mae}\")"
   ]
  }
 ],
 "metadata": {
  "kernelspec": {
   "display_name": ".venv",
   "language": "python",
   "name": "python3"
  },
  "language_info": {
   "codemirror_mode": {
    "name": "ipython",
    "version": 3
   },
   "file_extension": ".py",
   "mimetype": "text/x-python",
   "name": "python",
   "nbconvert_exporter": "python",
   "pygments_lexer": "ipython3",
   "version": "3.12.5"
  }
 },
 "nbformat": 4,
 "nbformat_minor": 2
}
