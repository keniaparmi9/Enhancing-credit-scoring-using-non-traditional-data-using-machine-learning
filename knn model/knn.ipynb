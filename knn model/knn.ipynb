{
 "cells": [
  {
   "cell_type": "code",
   "execution_count": 1,
   "metadata": {},
   "outputs": [],
   "source": [
    "import pandas as pd\n",
    "import numpy as np\n",
    "from sklearn.linear_model import Lasso\n",
    "from sklearn.neighbors import KNeighborsRegressor\n",
    "from sklearn.ensemble import RandomForestRegressor\n",
    "from sklearn.linear_model import LinearRegression\n",
    "from xgboost import XGBRegressor\n",
    "from sklearn.feature_selection import SelectKBest, f_regression\n",
    "from sklearn.feature_selection import mutual_info_regression\n",
    "from sklearn.metrics import mean_squared_error, mean_absolute_error\n",
    "from sklearn.model_selection import train_test_split\n",
    "from sklearn.preprocessing import StandardScaler\n",
    "from sklearn.feature_selection import RFE\n",
    "from sklearn.feature_selection import SequentialFeatureSelector\n",
    "from sklearn.linear_model import Ridge\n"
   ]
  },
  {
   "cell_type": "code",
   "execution_count": 2,
   "metadata": {},
   "outputs": [],
   "source": [
    "# Load the dataset\n",
    "df = pd.read_csv('/Users/parmikenia/Desktop/internship codes/combined_credit2.csv')\n",
    "\n",
    "# Defining features and target\n",
    "X = df.drop(columns=['Customer_ID', 'Credit_Score'])\n",
    "y = df['Credit_Score']\n",
    "\n",
    "# Train-test split\n",
    "X_train, X_test, y_train, y_test = train_test_split(X, y, test_size=0.3, random_state=42)\n",
    "\n",
    "# Standardizing the data\n",
    "scaler = StandardScaler()\n",
    "X_train_scaled = scaler.fit_transform(X_train)\n",
    "X_test_scaled = scaler.transform(X_test)"
   ]
  },
  {
   "cell_type": "markdown",
   "metadata": {},
   "source": [
    "LASSO"
   ]
  },
  {
   "cell_type": "code",
   "execution_count": 3,
   "metadata": {},
   "outputs": [
    {
     "data": {
      "text/plain": [
       "(np.float64(0.11001430961852594),\n",
       " np.float64(0.33168405089561653),\n",
       " np.float64(0.28024772313296903))"
      ]
     },
     "execution_count": 3,
     "metadata": {},
     "output_type": "execute_result"
    }
   ],
   "source": [
    "# LASSO Regression (L1) for feature selection\n",
    "lasso = Lasso(alpha=0.01)\n",
    "lasso.fit(X_train_scaled, y_train)\n",
    "\n",
    "# Selecting features with non-zero coefficients\n",
    "selected_features = np.where(lasso.coef_ != 0)[0]\n",
    "X_train_selected = X_train_scaled[:, selected_features]\n",
    "X_test_selected = X_test_scaled[:, selected_features]\n",
    "\n",
    "# Step 6: Apply K-Nearest Neighbors model\n",
    "knn = KNeighborsRegressor(n_neighbors=5)  # You can tune 'n_neighbors' for optimal results\n",
    "knn.fit(X_train_selected, y_train)\n",
    "\n",
    "# Step 7: Predict on the test set\n",
    "y_pred = knn.predict(X_test_selected)\n",
    "\n",
    "\n",
    "# Evaluation metrics\n",
    "mse = mean_squared_error(y_test, y_pred)\n",
    "rmse = np.sqrt(mse)\n",
    "mae = mean_absolute_error(y_test, y_pred)\n",
    "\n",
    "# Print evaluation metrics\n",
    "mse, rmse, mae"
   ]
  },
  {
   "cell_type": "markdown",
   "metadata": {},
   "source": [
    "ANOVA"
   ]
  },
  {
   "cell_type": "code",
   "execution_count": 9,
   "metadata": {},
   "outputs": [
    {
     "name": "stdout",
     "output_type": "stream",
     "text": [
      "Selected features by ANOVA F-test: Index(['Age', 'Income', 'Loan_Amount', 'Loan_Term_Months', 'Rent_Payments',\n",
      "       'Utility_Payments_On_Time', 'Mobile_Phone_Payment_On_Time',\n",
      "       'Social_Media_Activity_Score', 'Transaction_Behavior_Score',\n",
      "       'gender_female', 'gender_male', 'demographics_Rural',\n",
      "       'demographics_Sub_Urban', 'demographics_Urban',\n",
      "       'profession_Marketer Manager', 'profession_Software Engineer',\n",
      "       'profession_Student', 'social mediaplatform_Facebook',\n",
      "       'social mediaplatform_Instagram', 'social mediaplatform_YouTube'],\n",
      "      dtype='object')\n",
      "Mean Squared Error: 0.10734642287185513\n",
      "Root Mean Squared Error: 0.3276376395835117\n",
      "Mean Absolute Error: 0.27448937462052214\n"
     ]
    },
    {
     "name": "stderr",
     "output_type": "stream",
     "text": [
      "/Users/parmikenia/Desktop/internship codes/.venv/lib/python3.12/site-packages/sklearn/metrics/_regression.py:492: FutureWarning: 'squared' is deprecated in version 1.4 and will be removed in 1.6. To calculate the root mean squared error, use the function'root_mean_squared_error'.\n",
      "  warnings.warn(\n"
     ]
    }
   ],
   "source": [
    "# Step 1: ANOVA F-test for feature selection\n",
    "# SelectKBest will choose the top 'k' features based on ANOVA F-test scores\n",
    "k = 20 # Adjust 'k' to select the number of features you want\n",
    "selector = SelectKBest(score_func=f_regression, k=k)\n",
    "X_train_selected = selector.fit_transform(X_train_scaled, y_train)\n",
    "X_test_selected = selector.transform(X_test_scaled)\n",
    "\n",
    "# Get the selected feature indices and corresponding feature names\n",
    "selected_feature_indices = selector.get_support(indices=True)\n",
    "selected_feature_names = X.columns[selected_feature_indices]\n",
    "\n",
    "# Print the selected features\n",
    "print(f'Selected features by ANOVA F-test: {selected_feature_names}')\n",
    "\n",
    "\n",
    "# Step 6: Apply K-Nearest Neighbors model\n",
    "knn = KNeighborsRegressor(n_neighbors=5)  # You can tune 'n_neighbors' for optimal results\n",
    "knn.fit(X_train_selected, y_train)\n",
    "\n",
    "# Step 7: Predict on the test set\n",
    "y_pred = knn.predict(X_test_selected)\n",
    "\n",
    "# Predictions\n",
    "y_pred = knn.predict(X_test_selected)\n",
    "mse = mean_squared_error(y_test, y_pred)\n",
    "print(f'Mean Squared Error: {mse}')\n",
    "\n",
    "rmse = mean_squared_error(y_test, y_pred, squared=False)\n",
    "print(f'Root Mean Squared Error: {rmse}')\n",
    "\n",
    "mae = mean_absolute_error(y_test, y_pred)\n",
    "# Output the results\n",
    "print(f\"Mean Absolute Error: {mae}\")"
   ]
  },
  {
   "cell_type": "markdown",
   "metadata": {},
   "source": [
    "Mutual Information"
   ]
  },
  {
   "cell_type": "code",
   "execution_count": 10,
   "metadata": {},
   "outputs": [
    {
     "name": "stdout",
     "output_type": "stream",
     "text": [
      "Selected features by Mutual Information: Index(['Age', 'Income', 'Loan_Amount', 'Loan_Term_Months', 'Rent_Payments',\n",
      "       'Utility_Payments_On_Time', 'Mobile_Phone_Payment_On_Time',\n",
      "       'Social_Media_Activity_Score', 'Transaction_Behavior_Score',\n",
      "       'gender_female', 'gender_male', 'gender_non-binary',\n",
      "       'demographics_Rural', 'demographics_Sub_Urban', 'demographics_Urban',\n",
      "       'profession_Marketer Manager', 'profession_Software Engineer',\n",
      "       'profession_Student', 'social mediaplatform_Facebook',\n",
      "       'social mediaplatform_Instagram', 'social mediaplatform_YouTube'],\n",
      "      dtype='object')\n",
      "Mean Squared Error: 0.11112663328920609\n",
      "Root Mean Squared Error: 0.3333566157873668\n",
      "Mean Absolute Error: 0.28124590163934426\n"
     ]
    },
    {
     "name": "stderr",
     "output_type": "stream",
     "text": [
      "/Users/parmikenia/Desktop/internship codes/.venv/lib/python3.12/site-packages/sklearn/feature_selection/_univariate_selection.py:776: UserWarning: k=23 is greater than n_features=21. All the features will be returned.\n",
      "  warnings.warn(\n",
      "/Users/parmikenia/Desktop/internship codes/.venv/lib/python3.12/site-packages/sklearn/metrics/_regression.py:492: FutureWarning: 'squared' is deprecated in version 1.4 and will be removed in 1.6. To calculate the root mean squared error, use the function'root_mean_squared_error'.\n",
      "  warnings.warn(\n"
     ]
    }
   ],
   "source": [
    "# Step 1: Mutual Information for feature selection\n",
    "# SelectKBest will choose the top 'k' features based on MI scores\n",
    "\n",
    "k = 23 # Adjust 'k' to select the number of features you want\n",
    "selector = SelectKBest(score_func=mutual_info_regression, k=k)\n",
    "X_train_selected = selector.fit_transform(X_train_scaled, y_train)\n",
    "X_test_selected = selector.transform(X_test_scaled)\n",
    "\n",
    "# Get the selected feature indices and corresponding feature names\n",
    "selected_feature_indices = selector.get_support(indices=True)\n",
    "selected_feature_names = X.columns[selected_feature_indices]\n",
    "\n",
    "# Print the selected features\n",
    "print(f'Selected features by Mutual Information: {selected_feature_names}')\n",
    "\n",
    "# Step 6: Apply K-Nearest Neighbors model\n",
    "knn = KNeighborsRegressor(n_neighbors=5)  # You can tune 'n_neighbors' for optimal results\n",
    "knn.fit(X_train_selected, y_train)\n",
    "\n",
    "# Step 7: Predict on the test set\n",
    "y_pred = knn.predict(X_test_selected)\n",
    "\n",
    "mse = mean_squared_error(y_test, y_pred)\n",
    "print(f'Mean Squared Error: {mse}')\n",
    "\n",
    "rmse = mean_squared_error(y_test, y_pred, squared=False)\n",
    "print(f'Root Mean Squared Error: {rmse}')\n",
    "\n",
    "mae = mean_absolute_error(y_test, y_pred)\n",
    "# Output the results\n",
    "print(f\"Mean Absolute Error: {mae}\")"
   ]
  },
  {
   "cell_type": "markdown",
   "metadata": {},
   "source": [
    "FORWARD"
   ]
  },
  {
   "cell_type": "code",
   "execution_count": 11,
   "metadata": {},
   "outputs": [
    {
     "name": "stdout",
     "output_type": "stream",
     "text": [
      "Selected features by Forward Feature Selection: Index(['Age', 'Income', 'Loan_Amount', 'Loan_Term_Months', 'Rent_Payments',\n",
      "       'Utility_Payments_On_Time', 'Mobile_Phone_Payment_On_Time',\n",
      "       'Transaction_Behavior_Score', 'gender_female', 'gender_male',\n",
      "       'gender_non-binary', 'demographics_Rural', 'demographics_Sub_Urban',\n",
      "       'demographics_Urban', 'profession_Marketer Manager',\n",
      "       'profession_Software Engineer', 'profession_Student',\n",
      "       'social mediaplatform_Facebook', 'social mediaplatform_Instagram',\n",
      "       'social mediaplatform_YouTube'],\n",
      "      dtype='object')\n",
      "Mean Squared Error: 0.10670118856053343\n",
      "Root Mean Squared Error: 0.32665147873618056\n",
      "Mean Absolute Error: 0.27329568913175467\n"
     ]
    },
    {
     "name": "stderr",
     "output_type": "stream",
     "text": [
      "/Users/parmikenia/Desktop/internship codes/.venv/lib/python3.12/site-packages/sklearn/metrics/_regression.py:492: FutureWarning: 'squared' is deprecated in version 1.4 and will be removed in 1.6. To calculate the root mean squared error, use the function'root_mean_squared_error'.\n",
      "  warnings.warn(\n"
     ]
    }
   ],
   "source": [
    "# Step 1: Forward Feature Selection using Ridge as base estimator\n",
    "# You can adjust n_features_to_select to control the number of features to be selected\n",
    "\n",
    "\n",
    "ridge = Ridge()\n",
    "sfs = SequentialFeatureSelector(ridge, n_features_to_select=20, direction='forward')\n",
    "sfs.fit(X_train_scaled, y_train)\n",
    "\n",
    "# Get the selected feature indices and corresponding feature names\n",
    "selected_feature_indices = sfs.get_support(indices=True)\n",
    "selected_feature_names = X.columns[selected_feature_indices]\n",
    "\n",
    "# Print the selected features\n",
    "print(f'Selected features by Forward Feature Selection: {selected_feature_names}')\n",
    "# Step 2: Bagging Regressor with selected features\n",
    "X_train_selected = sfs.transform(X_train_scaled)\n",
    "X_test_selected = sfs.transform(X_test_scaled)\n",
    "\n",
    "# Step 6: Apply K-Nearest Neighbors model\n",
    "knn = KNeighborsRegressor(n_neighbors=5)  # You can tune 'n_neighbors' for optimal results\n",
    "knn.fit(X_train_selected, y_train)\n",
    "\n",
    "# Step 7: Predict on the test set\n",
    "y_pred = knn.predict(X_test_selected)\n",
    "\n",
    "\n",
    "mse = mean_squared_error(y_test, y_pred)\n",
    "print(f'Mean Squared Error: {mse}')\n",
    "\n",
    "rmse = mean_squared_error(y_test, y_pred, squared=False)\n",
    "print(f'Root Mean Squared Error: {rmse}')\n",
    "\n",
    "mae = mean_absolute_error(y_test, y_pred)\n",
    "# Output the results\n",
    "print(f\"Mean Absolute Error: {mae}\")"
   ]
  },
  {
   "cell_type": "markdown",
   "metadata": {},
   "source": [
    "RANDOM FOREST FEATURE IMPORTANCE"
   ]
  },
  {
   "cell_type": "code",
   "execution_count": 14,
   "metadata": {},
   "outputs": [
    {
     "name": "stdout",
     "output_type": "stream",
     "text": [
      "Selected features based on Random Forest importance: Index(['Utility_Payments_On_Time', 'social mediaplatform_Instagram',\n",
      "       'profession_Software Engineer', 'social mediaplatform_Facebook',\n",
      "       'gender_male', 'profession_Student', 'demographics_Urban',\n",
      "       'gender_female', 'gender_non-binary', 'profession_Marketer Manager',\n",
      "       'demographics_Rural', 'social mediaplatform_YouTube',\n",
      "       'demographics_Sub_Urban', 'Mobile_Phone_Payment_On_Time',\n",
      "       'Loan_Term_Months', 'Age', 'Social_Media_Activity_Score',\n",
      "       'Transaction_Behavior_Score', 'Loan_Amount', 'Rent_Payments', 'Income'],\n",
      "      dtype='object')\n",
      "Mean Squared Error: 0.11112663328920609\n",
      "Root Mean Squared Error: 0.3333566157873668\n",
      "Mean Absolute Error: 0.28124590163934426\n"
     ]
    },
    {
     "name": "stderr",
     "output_type": "stream",
     "text": [
      "/Users/parmikenia/Desktop/internship codes/.venv/lib/python3.12/site-packages/sklearn/metrics/_regression.py:492: FutureWarning: 'squared' is deprecated in version 1.4 and will be removed in 1.6. To calculate the root mean squared error, use the function'root_mean_squared_error'.\n",
      "  warnings.warn(\n"
     ]
    }
   ],
   "source": [
    "# Step 1: Train a Random Forest for feature importance\n",
    "random_forest = RandomForestRegressor(random_state=42)\n",
    "random_forest.fit(X_train_scaled, y_train)\n",
    "# Step 2: Extract feature importances from the Random Forest model\n",
    "feature_importances = random_forest.feature_importances_\n",
    "# Step 3: Select top k features based on importance\n",
    "k = 28 # Select top 'k' features\n",
    "indices = np.argsort(feature_importances)[-k:]  # Indices of top 'k' features\n",
    "selected_feature_names = X.columns[indices]\n",
    "\n",
    "# Print the selected features\n",
    "print(f'Selected features based on Random Forest importance: {selected_feature_names}')\n",
    "# Step 4: Use the selected features for training the Bagging Regressor\n",
    "X_train_selected = X_train_scaled[:, indices]\n",
    "X_test_selected = X_test_scaled[:, indices]\n",
    "\n",
    "# Step 6: Apply K-Nearest Neighbors model\n",
    "knn = KNeighborsRegressor(n_neighbors=5)  # You can tune 'n_neighbors' for optimal results\n",
    "knn.fit(X_train_selected, y_train)\n",
    "\n",
    "# Step 7: Predict on the test set\n",
    "y_pred = knn.predict(X_test_selected)\n",
    "\n",
    "\n",
    "mse = mean_squared_error(y_test, y_pred)\n",
    "print(f'Mean Squared Error: {mse}')\n",
    "\n",
    "rmse = mean_squared_error(y_test, y_pred, squared=False)\n",
    "print(f'Root Mean Squared Error: {rmse}')\n",
    "\n",
    "mae = mean_absolute_error(y_test, y_pred)\n",
    "# Output the results\n",
    "print(f\"Mean Absolute Error: {mae}\")"
   ]
  },
  {
   "cell_type": "markdown",
   "metadata": {},
   "source": [
    "RFECV"
   ]
  },
  {
   "cell_type": "code",
   "execution_count": 10,
   "metadata": {},
   "outputs": [
    {
     "name": "stdout",
     "output_type": "stream",
     "text": [
      "Selected features by RFE: Index(['Age', 'Income', 'Loan_Amount', 'Loan_Term_Months', 'Rent_Payments',\n",
      "       'Social_Media_Activity_Score', 'Transaction_Behavior_Score',\n",
      "       'gender_non-binary', 'demographics_Urban',\n",
      "       'social mediaplatform_YouTube'],\n",
      "      dtype='object')\n",
      "Mean Squared Error: 0.10844231129514059\n",
      "Root Mean Squared Error: 0.3293058020975953\n",
      "Mean Absolute Error: 0.27827565270188226\n"
     ]
    },
    {
     "name": "stderr",
     "output_type": "stream",
     "text": [
      "/Users/parmikenia/Desktop/internship codes/.venv/lib/python3.12/site-packages/sklearn/metrics/_regression.py:492: FutureWarning: 'squared' is deprecated in version 1.4 and will be removed in 1.6. To calculate the root mean squared error, use the function'root_mean_squared_error'.\n",
      "  warnings.warn(\n"
     ]
    }
   ],
   "source": [
    "# Step 1: RFE for feature selection using RandomForestRegressor as the base model\n",
    "# You can use any estimator with feature importance like RandomForestRegressor\n",
    "random_forest = RandomForestRegressor(random_state=42)\n",
    "rfe = RFE(estimator=random_forest, n_features_to_select=10)\n",
    "rfe.fit(X_train_scaled, y_train)\n",
    "\n",
    "# Get the selected feature indices and corresponding feature names\n",
    "selected_feature_indices = rfe.get_support(indices=True)\n",
    "selected_feature_names = X.columns[selected_feature_indices]\n",
    "\n",
    "# Print the selected features\n",
    "print(f'Selected features by RFE: {selected_feature_names}')\n",
    "# Step 2: Bagging Regressor with selected features\n",
    "X_train_selected = rfe.transform(X_train_scaled)\n",
    "X_test_selected = rfe.transform(X_test_scaled)\n",
    "\n",
    "# Step 6: Apply K-Nearest Neighbors model\n",
    "knn = KNeighborsRegressor(n_neighbors=5)  # You can tune 'n_neighbors' for optimal results\n",
    "knn.fit(X_train_selected, y_train)\n",
    "\n",
    "# Step 7: Predict on the test set\n",
    "y_pred = knn.predict(X_test_selected)\n",
    "\n",
    "mse = mean_squared_error(y_test, y_pred)\n",
    "print(f'Mean Squared Error: {mse}')\n",
    "\n",
    "rmse = mean_squared_error(y_test, y_pred, squared=False)\n",
    "print(f'Root Mean Squared Error: {rmse}')\n",
    "\n",
    "mae = mean_absolute_error(y_test, y_pred)\n",
    "# Output the results\n",
    "print(f\"Mean Absolute Error: {mae}\")"
   ]
  }
 ],
 "metadata": {
  "kernelspec": {
   "display_name": ".venv",
   "language": "python",
   "name": "python3"
  },
  "language_info": {
   "codemirror_mode": {
    "name": "ipython",
    "version": 3
   },
   "file_extension": ".py",
   "mimetype": "text/x-python",
   "name": "python",
   "nbconvert_exporter": "python",
   "pygments_lexer": "ipython3",
   "version": "3.12.5"
  }
 },
 "nbformat": 4,
 "nbformat_minor": 2
}
